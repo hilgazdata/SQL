{
 "cells": [
  {
   "cell_type": "markdown",
   "metadata": {},
   "source": [
    "## creating a new database and making it available"
   ]
  },
  {
   "cell_type": "code",
   "execution_count": null,
   "metadata": {},
   "outputs": [],
   "source": [
    "DROP DATABASE IF EXISTS employees;\n",
    "CREATE DATABASE IF NOT EXISTS employees; \n",
    "USE employees;"
   ]
  },
  {
   "cell_type": "markdown",
   "metadata": {},
   "source": [
    "## creating tables"
   ]
  },
  {
   "cell_type": "code",
   "execution_count": null,
   "metadata": {},
   "outputs": [],
   "source": [
    "CREATE TABLE sales.customers                                                    \n",
    "\n",
    "(  \n",
    "\n",
    "    customer_id INT,  \n",
    "\n",
    "    first_name varchar(255),  \n",
    "\n",
    "    last_name varchar(255),  \n",
    "\n",
    "    email_address varchar(255),   \n",
    "\n",
    "    number_of_complaints int,   \n",
    "\n",
    "primary key (customer_id),\n",
    "\n",
    ");  \n",
    "\n",
    "   \n",
    "\n",
    "CREATE TABLE sales.items                                                                                                                              \n",
    "\n",
    "(  \n",
    "\n",
    "    item_code varchar(255),   \n",
    "\n",
    "    item varchar(255),   \n",
    "\n",
    "    unit_price numeric(10,2),   \n",
    "\n",
    "    company_id varchar(255),\n",
    "\n",
    "primary key (item_code)   \n",
    "\n",
    ");  \n",
    "\n",
    "    CREATE TABLE sales.companies   \n",
    "\n",
    "(\n",
    "\n",
    "    company_id varchar(255),   \n",
    "\n",
    "    company_name varchar(255),  \n",
    "\n",
    "    headquarters_phone_number int(12),   \n",
    "\n",
    "primary key (company_id)   \n",
    "\n",
    ");\n",
    "\n",
    "\n",
    " CREATE TABLE sales.sales   \n",
    "\n",
    "(\n",
    "\n",
    "    purchase_number varchar(255),   \n",
    "\n",
    "    date_of_purchase varchar(255),  \n",
    "\n",
    "    customer_id int,   \n",
    "    \n",
    "    item_code varchar(255),\n",
    "\n",
    "primary key (purchase_number)   \n",
    "\n",
    ");"
   ]
  },
  {
   "cell_type": "code",
   "execution_count": null,
   "metadata": {},
   "outputs": [],
   "source": [
    "create table if not exists test(numbers int(10), words varchar(10));"
   ]
  },
  {
   "cell_type": "code",
   "execution_count": null,
   "metadata": {},
   "outputs": [],
   "source": [
    "use sales;  ## using sales schema for operationalization"
   ]
  },
  {
   "cell_type": "markdown",
   "metadata": {},
   "source": [
    "## deleting a table"
   ]
  },
  {
   "cell_type": "code",
   "execution_count": null,
   "metadata": {},
   "outputs": [],
   "source": [
    "DROP TABLE sales;"
   ]
  },
  {
   "cell_type": "markdown",
   "metadata": {},
   "source": [
    "## Adding and dropping foreign key"
   ]
  },
  {
   "cell_type": "code",
   "execution_count": null,
   "metadata": {},
   "outputs": [],
   "source": [
    "CREATE TABLE sales.sales   \n",
    "\n",
    "(\n",
    "\n",
    "    purchase_number varchar(255),   \n",
    "\n",
    "    date_of_purchase varchar(255),  \n",
    "\n",
    "    customer_id varchar(255),   \n",
    "    \n",
    "    item_code varchar(255),\n",
    "\n",
    "primary key (purchase_number)\n",
    ");\n",
    "\n",
    "ALTER TABLE sales.sales\n",
    "ADD FOREIGN KEY (customer_id) REFERENCES customers(customer_id) ON DELETE CASCADE;\n",
    "\n",
    "## the name of column is learned from DDL tab \n",
    "ALTER TABLE sales\n",
    "DROP foreign key sales_ibfk_1;"
   ]
  },
  {
   "cell_type": "markdown",
   "metadata": {},
   "source": [
    "## adding a unique key and revoking the index characteristic"
   ]
  },
  {
   "cell_type": "code",
   "execution_count": null,
   "metadata": {},
   "outputs": [],
   "source": [
    "ALTER TABLE sales.customers \n",
    "ADD UNIQUE KEY (email_address);\n",
    "\n",
    "ALTER TABLE sales.customers\n",
    "DROP INDEX email_address;"
   ]
  },
  {
   "cell_type": "markdown",
   "metadata": {},
   "source": [
    "## adding new column"
   ]
  },
  {
   "cell_type": "code",
   "execution_count": null,
   "metadata": {},
   "outputs": [],
   "source": [
    "ALTER TABLE customers\n",
    "\n",
    "ADD COLUMN gender ENUM('M', 'F') AFTER last_name;"
   ]
  },
  {
   "cell_type": "markdown",
   "metadata": {},
   "source": [
    "## inserting data to an existing columns"
   ]
  },
  {
   "cell_type": "code",
   "execution_count": null,
   "metadata": {},
   "outputs": [],
   "source": [
    "INSERT INTO customers (first_name, last_name, gender, email_address, number_of_complaints)\n",
    "\n",
    "VALUES ('John', 'Mackinley', 'M', 'john.mckinley@365careers.com', 0)"
   ]
  },
  {
   "cell_type": "markdown",
   "metadata": {},
   "source": [
    "## assigning default value to columns"
   ]
  },
  {
   "cell_type": "code",
   "execution_count": null,
   "metadata": {},
   "outputs": [],
   "source": [
    "ALTER TABLE customers\n",
    "CHANGE COLUMN number_of_complaints number_of_complaints INT DEFAULT 0;\n",
    "\n",
    "INSERT INTO customers (first_name, last_name, gender)\n",
    "VALUES ('Peter', 'Figaro', 'M');"
   ]
  },
  {
   "cell_type": "markdown",
   "metadata": {},
   "source": [
    "## viewing the table"
   ]
  },
  {
   "cell_type": "code",
   "execution_count": null,
   "metadata": {},
   "outputs": [],
   "source": [
    "SELECT * FROM customers; "
   ]
  },
  {
   "cell_type": "markdown",
   "metadata": {},
   "source": [
    "## dropping the default value"
   ]
  },
  {
   "cell_type": "code",
   "execution_count": null,
   "metadata": {},
   "outputs": [],
   "source": [
    "ALTER TABLE customers\n",
    "ALTER COLUMN number_of_complaints DROP DEFAULT;"
   ]
  },
  {
   "cell_type": "markdown",
   "metadata": {},
   "source": [
    "## adding non value (not null) feature to a column when creating a table "
   ]
  },
  {
   "cell_type": "code",
   "execution_count": null,
   "metadata": {},
   "outputs": [],
   "source": [
    "CREATE TABLE companies\n",
    "\n",
    "(\n",
    "\n",
    "    company_id VARCHAR(255),\n",
    "\n",
    "    company_name VARCHAR(255) NOT NULL, ####\n",
    "\n",
    "    headquarters_phone_number VARCHAR(255),\n",
    "\n",
    "PRIMARY KEY (company_id)\n",
    "\n",
    ");"
   ]
  },
  {
   "cell_type": "markdown",
   "metadata": {},
   "source": [
    "## deleting non value feature from a column"
   ]
  },
  {
   "cell_type": "code",
   "execution_count": null,
   "metadata": {},
   "outputs": [],
   "source": [
    "ALTER TABLE companies\n",
    "MODIFY company_name VARCHAR(255) NULL;"
   ]
  },
  {
   "cell_type": "markdown",
   "metadata": {},
   "source": [
    "## adding non value feature to an existing table"
   ]
  },
  {
   "cell_type": "code",
   "execution_count": null,
   "metadata": {},
   "outputs": [],
   "source": [
    "ALTER TABLE companies\n",
    "CHANGE COLUMN company_name company_name VARCHAR(255) NOT NULL; "
   ]
  },
  {
   "cell_type": "markdown",
   "metadata": {},
   "source": [
    "## commenting"
   ]
  },
  {
   "cell_type": "code",
   "execution_count": null,
   "metadata": {},
   "outputs": [],
   "source": [
    "for large comments\n",
    "\n",
    "/* \n",
    "Comment 1\n",
    "Comment 2\n",
    "*/\n",
    "\n",
    "\n",
    "for one-line comments \n",
    "\n",
    "# or -- "
   ]
  },
  {
   "cell_type": "markdown",
   "metadata": {},
   "source": [
    "## select "
   ]
  },
  {
   "cell_type": "code",
   "execution_count": null,
   "metadata": {},
   "outputs": [],
   "source": [
    "use employees;\n",
    "SELECT \n",
    "    first_name, last_name\n",
    "FROM\n",
    "    employees;\n",
    "    \n",
    "    \n",
    "SELECT \n",
    "    *\n",
    "FROM\n",
    "    employees;\n",
    "    \n",
    "    \n",
    "SELECT \n",
    "    dept_no\n",
    "FROM\n",
    "    departments;\n",
    "    \n",
    "    \n",
    "SELECT \n",
    "    *\n",
    "FROM\n",
    "    departments;\n",
    "    \n",
    "    \n",
    "SELECT \n",
    "    *\n",
    "FROM\n",
    "    employees\n",
    "WHERE \n",
    "\tfirst_name = 'Denis';"
   ]
  },
  {
   "cell_type": "code",
   "execution_count": null,
   "metadata": {},
   "outputs": [],
   "source": [
    "SELECT \n",
    "    *\n",
    "FROM\n",
    "    employees\n",
    "WHERE \n",
    "\tfirst_name = 'Denis' and gender = 'M';"
   ]
  },
  {
   "cell_type": "code",
   "execution_count": null,
   "metadata": {},
   "outputs": [],
   "source": [
    "SELECT\n",
    "\n",
    "    *\n",
    "\n",
    "FROM\n",
    "\n",
    "    employees\n",
    "\n",
    "WHERE\n",
    "\n",
    "    first_name = 'Kellie' AND gender = 'F'; "
   ]
  },
  {
   "cell_type": "code",
   "execution_count": null,
   "metadata": {},
   "outputs": [],
   "source": [
    "SELECT \n",
    "    *\n",
    "FROM\n",
    "    employees\n",
    "WHERE \n",
    "\tfirst_name = 'Denis' or first_name = 'Elvis';"
   ]
  },
  {
   "cell_type": "markdown",
   "metadata": {},
   "source": [
    "### SQL operates first AND and then OR if both are conditioned in the same WHERE"
   ]
  },
  {
   "cell_type": "code",
   "execution_count": null,
   "metadata": {},
   "outputs": [],
   "source": [
    "SELECT \n",
    "    *\n",
    "FROM\n",
    "    employees\n",
    "WHERE\n",
    "    last_name = 'Denis'\n",
    "        AND (gender = 'M' OR gender = 'F');"
   ]
  },
  {
   "cell_type": "code",
   "execution_count": null,
   "metadata": {},
   "outputs": [],
   "source": [
    "SELECT \n",
    "    *\n",
    "FROM\n",
    "    employees\n",
    "WHERE\n",
    "    gender = 'F'\n",
    "        AND (first_name = 'Kellie'\n",
    "        OR first_name = 'Aruna');"
   ]
  },
  {
   "cell_type": "code",
   "execution_count": null,
   "metadata": {},
   "outputs": [],
   "source": [
    "SELECT \n",
    "    *\n",
    "FROM\n",
    "    employees\n",
    "WHERE\n",
    "    first_name = 'Cathie'\n",
    "        OR (first_name = 'Mark'\n",
    "        OR first_name = 'Nathan');"
   ]
  },
  {
   "cell_type": "markdown",
   "metadata": {},
   "source": [
    "### another more efficient way to do this query "
   ]
  },
  {
   "cell_type": "code",
   "execution_count": null,
   "metadata": {},
   "outputs": [],
   "source": [
    "SELECT \n",
    "    *\n",
    "FROM\n",
    "    employees\n",
    "WHERE\n",
    "    first_name IN ('Cathie', 'Mark', 'Nathan');"
   ]
  },
  {
   "cell_type": "code",
   "execution_count": null,
   "metadata": {},
   "outputs": [],
   "source": [
    "SELECT \n",
    "    *\n",
    "FROM\n",
    "    employees\n",
    "WHERE\n",
    "    first_name NOT IN ('Cathie', 'Mark', 'Nathan');"
   ]
  },
  {
   "cell_type": "code",
   "execution_count": null,
   "metadata": {},
   "outputs": [],
   "source": [
    "# Use the IN operator to select all individuals from the “employees” table, whose first name is either “Denis”, or “Elvis”.\n",
    "\n",
    "SELECT\n",
    "\n",
    "    *\n",
    "\n",
    "FROM\n",
    "\n",
    "    employees\n",
    "\n",
    "WHERE\n",
    "\n",
    "    first_name IN ('Denis' , 'Elvis');"
   ]
  },
  {
   "cell_type": "code",
   "execution_count": null,
   "metadata": {},
   "outputs": [],
   "source": [
    "## Extract all records from the ‘employees’ table, aside from those with employees named John, Mark, or Jacob.\n",
    "\n",
    "SELECT\n",
    "\n",
    "    *\n",
    "\n",
    "FROM\n",
    "\n",
    "    employees\n",
    "\n",
    "WHERE\n",
    "\n",
    "    first_name NOT IN ('John' , 'Mark', 'Jacob');\n"
   ]
  },
  {
   "cell_type": "code",
   "execution_count": null,
   "metadata": {},
   "outputs": [],
   "source": [
    "# Working with the “employees” table, use the LIKE operator to select the data about all individuals, whose first name starts with “Mark”; specify that the name can be succeeded by any sequence of characters.\n",
    "\n",
    "# Retrieve a list with all employees who have been hired in the year 2000.\n",
    "\n",
    "# Retrieve a list with all employees whose employee number is written with 5 characters, and starts with “1000”. \n",
    "\n",
    "SELECT\n",
    "\n",
    "    *\n",
    "\n",
    "FROM\n",
    "\n",
    "    employees\n",
    "\n",
    "WHERE\n",
    "\n",
    "    first_name LIKE('Mark%');\n",
    "\n",
    " \n",
    "\n",
    "SELECT\n",
    "\n",
    "    *\n",
    "\n",
    "FROM\n",
    "\n",
    "    employees\n",
    "\n",
    "WHERE\n",
    "\n",
    "    hire_date LIKE ('%2000%');\n",
    "\n",
    " \n",
    "\n",
    "SELECT\n",
    "\n",
    "    *\n",
    "\n",
    "FROM\n",
    "\n",
    "    employees\n",
    "\n",
    "WHERE\n",
    "\n",
    "    emp_no LIKE ('1000_');\n",
    "\n"
   ]
  },
  {
   "cell_type": "code",
   "execution_count": null,
   "metadata": {},
   "outputs": [],
   "source": [
    "# Extract all individuals from the ‘employees’ table whose first name contains “Jack”.\n",
    "\n",
    "# Once you have done that, extract another list containing the names of employees that do not contain “Jack”.\n",
    "\n",
    "SELECT\n",
    "\n",
    "    *\n",
    "\n",
    "FROM\n",
    "\n",
    "    employees\n",
    "\n",
    "WHERE\n",
    "\n",
    "    first_name LIKE ('%JACK%');\n",
    "\n",
    "SELECT\n",
    "\n",
    "    *\n",
    "\n",
    "FROM\n",
    "\n",
    "    employees\n",
    "\n",
    "WHERE\n",
    "\n",
    "    first_name NOT LIKE ('%Jack%'); "
   ]
  },
  {
   "cell_type": "markdown",
   "metadata": {},
   "source": [
    "### BETWEEN - AND - exercise\n",
    "Select all the information from the “salaries” table regarding contracts from 66,000 to 70,000 dollars per year.\n",
    "\n",
    "Retrieve a list with all individuals whose employee number is not between ‘10004’ and ‘10012’.\n",
    "\n",
    "Select the names of all departments with numbers between ‘d003’ and ‘d006’.\n",
    "\n"
   ]
  },
  {
   "cell_type": "code",
   "execution_count": null,
   "metadata": {},
   "outputs": [],
   "source": [
    "SELECT\n",
    "\n",
    "    *\n",
    "\n",
    "FROM\n",
    "\n",
    "    salaries;\n",
    "\n",
    " \n",
    "\n",
    "SELECT\n",
    "\n",
    "    *\n",
    "\n",
    "FROM\n",
    "\n",
    "    salaries\n",
    "\n",
    "WHERE\n",
    "\n",
    "    salary BETWEEN 66000 AND 70000\n",
    "\n",
    "    ;\n",
    "\n",
    "   \n",
    "\n",
    "SELECT\n",
    "\n",
    "    *\n",
    "\n",
    "FROM\n",
    "\n",
    "    employees\n",
    "\n",
    "WHERE\n",
    "\n",
    "    emp_no NOT BETWEEN '10004' AND '10012'\n",
    "\n",
    "    ;\n",
    "\n",
    "   \n",
    "\n",
    "SELECT\n",
    "\n",
    "    dept_name\n",
    "\n",
    "FROM\n",
    "\n",
    "    departments\n",
    "\n",
    "WHERE\n",
    "\n",
    "    dept_no BETWEEN 'd003' AND 'd006';"
   ]
  },
  {
   "cell_type": "code",
   "execution_count": null,
   "metadata": {},
   "outputs": [],
   "source": [
    "# Select the names of all departments whose department number value is not null.\n",
    "\n",
    "SELECT\n",
    "\n",
    "    dept_name\n",
    "\n",
    "FROM\n",
    "\n",
    "    departments\n",
    "\n",
    "WHERE\n",
    "\n",
    "    dept_no IS NOT NULL;\n",
    "\n",
    "\n"
   ]
  },
  {
   "cell_type": "code",
   "execution_count": null,
   "metadata": {},
   "outputs": [],
   "source": [
    "# Retrieve a list with data about all female employees who were hired in the year 2000 or after.\n",
    "\n",
    "# Hint: If you solve the task correctly, SQL should return 7 rows.\n",
    "\n",
    "# Extract a list with all employees’ salaries higher than $150,000 per annum.\n",
    "\n",
    "SELECT\n",
    "\n",
    "    *\n",
    "\n",
    "FROM\n",
    "\n",
    "    employees\n",
    "\n",
    "WHERE\n",
    "\n",
    "    hire_date >= '2000-01-01'\n",
    "\n",
    "        AND gender = 'F';\n",
    "\n",
    "SELECT\n",
    "\n",
    "    *\n",
    "\n",
    "FROM\n",
    "\n",
    "    salaries\n",
    "\n",
    "WHERE\n",
    "\n",
    "    salary > 150000;\n",
    "\n"
   ]
  },
  {
   "cell_type": "markdown",
   "metadata": {},
   "source": [
    "## SELECT DISTINCT"
   ]
  },
  {
   "cell_type": "code",
   "execution_count": null,
   "metadata": {},
   "outputs": [],
   "source": [
    "# Obtain a list with all different “hire dates” from the “employees” table.\n",
    "\n",
    "# Expand this list and click on “Limit to 1000 rows”. This way you will set the limit of output rows displayed back to the default of 1000.\n",
    "\n",
    "# In the next lecture, we will show you how to manipulate the limit rows count. \n",
    "\n",
    "\n",
    "SELECT DISTINCT\n",
    "\n",
    "    hire_date\n",
    "\n",
    "FROM\n",
    "\n",
    "    employees;"
   ]
  },
  {
   "cell_type": "markdown",
   "metadata": {},
   "source": [
    "## Aggregate functions (count etc.)"
   ]
  },
  {
   "cell_type": "code",
   "execution_count": null,
   "metadata": {},
   "outputs": [],
   "source": [
    "SELECT \n",
    "    COUNT(first_name)\n",
    "FROM\n",
    "    employees;\n",
    "    \n",
    "    SELECT \n",
    "    COUNT(DISTINCT first_name) ## note that DISTINCT is written before first_name (which we want to differentiate), but not from SELECT\n",
    "FROM\n",
    "    employees;"
   ]
  },
  {
   "cell_type": "code",
   "execution_count": null,
   "metadata": {},
   "outputs": [],
   "source": [
    "# How many annual contracts with a value higher than or equal to $100,000 have been registered in the salaries table?\n",
    "\n",
    "\n",
    "SELECT \n",
    "    COUNT(*)\n",
    "FROM\n",
    "    salaries\n",
    "WHERE\n",
    "    salary >= 100000;\n",
    "    \n",
    "# How many managers do we have in the “employees” database? Use the star symbol (*) in your code to solve this exercise.\n",
    "\n",
    "    \n",
    "SELECT \n",
    "    COUNT(*)\n",
    "FROM\n",
    "    dept_manager;"
   ]
  },
  {
   "cell_type": "markdown",
   "metadata": {},
   "source": [
    "### order by"
   ]
  },
  {
   "cell_type": "code",
   "execution_count": null,
   "metadata": {},
   "outputs": [],
   "source": [
    "SELECT \n",
    "    *\n",
    "FROM\n",
    "    employees\n",
    "ORDER BY first_name;\n",
    "\n",
    "\n",
    "\n",
    "SELECT \n",
    "    *\n",
    "FROM\n",
    "    employees\n",
    "ORDER BY first_name DESC;\n",
    "\n",
    "\n",
    "\n",
    "SELECT \n",
    "    *\n",
    "FROM\n",
    "    employees\n",
    "ORDER BY first_name DESC, last_name DESC;"
   ]
  },
  {
   "cell_type": "code",
   "execution_count": null,
   "metadata": {},
   "outputs": [],
   "source": [
    "# Select all data from the “employees” table, ordering it by “hire date” in descending order.\n",
    "\n",
    "SELECT\n",
    "\n",
    "    *\n",
    "\n",
    "FROM\n",
    "\n",
    "    employees\n",
    "\n",
    "ORDER BY hire_date DESC;"
   ]
  },
  {
   "cell_type": "markdown",
   "metadata": {},
   "source": [
    "### Group by"
   ]
  },
  {
   "cell_type": "code",
   "execution_count": null,
   "metadata": {},
   "outputs": [],
   "source": [
    "SELECT \n",
    "    COUNT(first_name)\n",
    "FROM\n",
    "    employees\n",
    "GROUP BY first_name;\n",
    "\n",
    "\n",
    "\n",
    "SELECT \n",
    "    first_name, COUNT(first_name) ## adds first name before the count of which \n",
    "FROM\n",
    "    employees\n",
    "GROUP BY first_name;\n",
    "\n",
    "\n",
    "\n",
    "SELECT \n",
    "    first_name, COUNT(first_name)\n",
    "FROM\n",
    "    employees\n",
    "GROUP BY first_name\n",
    "ORDER BY first_name DESC; ## orders them by first name in the reverse order\n",
    "\n",
    "\n",
    "\n",
    "SELECT \n",
    "    first_name, COUNT(first_name) AS names_count ## names the new column as 'names_count'\n",
    "FROM\n",
    "    employees\n",
    "GROUP BY first_name\n",
    "ORDER BY first_name DESC;"
   ]
  },
  {
   "cell_type": "code",
   "execution_count": null,
   "metadata": {},
   "outputs": [],
   "source": [
    "# Write a query that obtains two columns. \n",
    "# The first column must contain annual salaries higher than 80,000 dollars. \n",
    "# The second column, renamed to “emps_with_same_salary”, must show the number of employees contracted to that salary. \n",
    "# Lastly, sort the output by the first column.\n",
    "\n",
    "SELECT\n",
    "\n",
    "    salary, COUNT(emp_no) AS emps_with_same_salary\n",
    "\n",
    "FROM\n",
    "\n",
    "    salaries\n",
    "\n",
    "WHERE\n",
    "\n",
    "    salary > 80000\n",
    "\n",
    "GROUP BY salary\n",
    "\n",
    "ORDER BY salary;"
   ]
  },
  {
   "cell_type": "markdown",
   "metadata": {},
   "source": [
    "## having\n",
    "\n",
    "**where** and **having** are the same actually, but where cannot be used before aggreagate functionss, but having can be used"
   ]
  },
  {
   "cell_type": "code",
   "execution_count": null,
   "metadata": {},
   "outputs": [],
   "source": [
    "# Select all employees whose average salary is higher than $120,000 per annum.\n",
    "\n",
    "SELECT\n",
    "\n",
    "    emp_no, AVG(salary)\n",
    "\n",
    "FROM\n",
    "\n",
    "    salaries\n",
    "\n",
    "GROUP BY emp_no\n",
    "\n",
    "HAVING AVG(salary) > 120000  ## located between GROUP BY and ORDER BY commands\n",
    "\n",
    "ORDER BY emp_no;"
   ]
  },
  {
   "cell_type": "markdown",
   "metadata": {},
   "source": [
    "### where vs. having"
   ]
  },
  {
   "cell_type": "code",
   "execution_count": null,
   "metadata": {},
   "outputs": [],
   "source": [
    "SELECT \n",
    "    first_name, COUNT(first_name) AS names_count\n",
    "FROM\n",
    "    employees\n",
    "WHERE\n",
    "    hire > '1999-01-01'\n",
    "GROUP BY first_name\n",
    "HAVING COUNT(first_name) < 200\n",
    "ORDER BY first_name DESC;"
   ]
  },
  {
   "cell_type": "code",
   "execution_count": null,
   "metadata": {},
   "outputs": [],
   "source": [
    "# Select the employee numbers of all individuals who have signed more than 1 contract after the 1st of January 2000.\n",
    "\n",
    "SELECT\n",
    "\n",
    "    emp_no\n",
    "\n",
    "FROM\n",
    "\n",
    "    dept_emp\n",
    "\n",
    "WHERE  ## note that both where and having are used \n",
    "\n",
    "    from_date > '2000-01-01'\n",
    "\n",
    "GROUP BY emp_no\n",
    "\n",
    "HAVING COUNT(from_date) > 1\n",
    "\n",
    "ORDER BY emp_no;"
   ]
  },
  {
   "cell_type": "markdown",
   "metadata": {},
   "source": [
    "## Limit"
   ]
  },
  {
   "cell_type": "code",
   "execution_count": null,
   "metadata": {},
   "outputs": [],
   "source": [
    "# Select the first 100 rows from the ‘dept_emp’ table. \n",
    "\n",
    "SELECT\n",
    "\n",
    "    *\n",
    "\n",
    "FROM\n",
    "\n",
    "    dept_emp\n",
    "\n",
    "LIMIT 100;"
   ]
  },
  {
   "cell_type": "markdown",
   "metadata": {},
   "source": [
    "## Insert statement"
   ]
  },
  {
   "cell_type": "code",
   "execution_count": null,
   "metadata": {},
   "outputs": [],
   "source": [
    "SELECT \n",
    "    *\n",
    "FROM\n",
    "    employees\n",
    "LIMIT 10;   ### functions as head() in python\n",
    "\n",
    "\n",
    "\n",
    "## we need to specify as many data values as there are columns in the data table\n",
    "## and add them in the same order in which they appear in the table\n",
    "INSERT INTO employees\n",
    "(\n",
    "        emp_no,\n",
    "        birth_date,\n",
    "        first_name, \n",
    "        last_name,\n",
    "        gender, \n",
    "        hire_date\n",
    ")    VALUES\n",
    "(\n",
    "        999901,\n",
    "        '1986-02-21', \n",
    "        'John', \n",
    "        'Smith', \n",
    "        'M', \n",
    "        '2011-01-01'\n",
    ");"
   ]
  },
  {
   "cell_type": "code",
   "execution_count": null,
   "metadata": {},
   "outputs": [],
   "source": [
    "## Select ten records from the “titles” table to get a better idea about its content.\n",
    "# Then, in the same table, insert information about employee number 999903. State that he/she is a “Senior Engineer”, who has started working in this position on October 1st, 1997.\n",
    "# At the end, sort the records from the “titles” table in descending order to check if you have successfully inserted the new record.\n",
    "\n",
    "\n",
    "SELECT\n",
    "\n",
    "    *\n",
    "\n",
    "FROM\n",
    "\n",
    "    titles\n",
    "\n",
    "LIMIT 10;\n",
    "\n",
    " \n",
    "\n",
    "insert into titles\n",
    "\n",
    "(\n",
    "\n",
    "\temp_no,\n",
    "\n",
    "    title,\n",
    "\n",
    "    from_date\n",
    "\n",
    ")\n",
    "\n",
    "values\n",
    "\n",
    "(\n",
    "\n",
    "\t999903,\n",
    "\n",
    "    'Senior Engineer',\n",
    "\n",
    "    '1997-10-01'\n",
    "\n",
    ");\n",
    "\n",
    " \n",
    "\n",
    "SELECT \n",
    "    *\n",
    "FROM\n",
    "    titles\n",
    "ORDER BY emp_no DESC;"
   ]
  },
  {
   "cell_type": "code",
   "execution_count": null,
   "metadata": {},
   "outputs": [],
   "source": [
    "# Insert information about the individual with employee number 999903 into the “dept_emp” table. He/She is working for department number 5, and has started work on  October 1st, 1997; her/his contract is for an indefinite period of time.\n",
    "\n",
    "## Hint: Use the date ‘9999-01-01’ to designate the contract is for an indefinite period.\n",
    "\n",
    "\n",
    "SELECT \n",
    "    *\n",
    "FROM\n",
    "    dept_emp\n",
    "ORDER BY emp_no DESC\n",
    "LIMIT 10;\n",
    "\n",
    " \n",
    "\n",
    "insert into dept_emp\n",
    "\n",
    "(\n",
    "\n",
    "\temp_no,\n",
    "\n",
    "    dept_no,\n",
    "\n",
    "    from_date,\n",
    "\n",
    "    to_date\n",
    "\n",
    ")\n",
    "\n",
    "values\n",
    "\n",
    "(\n",
    "\n",
    "\t999903,\n",
    "\n",
    "    'd005',\n",
    "\n",
    "    '1997-10-01',\n",
    "\n",
    "    '9999-01-01'\n",
    "\n",
    ");"
   ]
  },
  {
   "cell_type": "code",
   "execution_count": null,
   "metadata": {},
   "outputs": [],
   "source": [
    "# Create a new department called “Business Analysis”. Register it under number ‘d010’.\n",
    "## Hint: To solve this exercise, use the “departments” table.\n",
    "\n",
    "INSERT INTO departments VALUES ('d010', 'Business Analysis');"
   ]
  },
  {
   "cell_type": "code",
   "execution_count": null,
   "metadata": {},
   "outputs": [],
   "source": [
    "# Inserting data into a new table\n",
    "\n",
    "CREATE TABLE departments_dup (\n",
    "    dept_no CHAR(4) NOT NULL,\n",
    "    dept_name VARCHAR(40) NOT NULL\n",
    ");\n",
    "\n",
    "\n",
    "SELECT \n",
    "    *\n",
    "FROM\n",
    "    departments_dup; ## empty\n",
    "\n",
    "    \n",
    "insert into departments_dup\n",
    "(\n",
    "    dept_no\n",
    "    dept_name\n",
    ")\n",
    "\n",
    "Select * from departments; "
   ]
  },
  {
   "cell_type": "markdown",
   "metadata": {},
   "source": [
    "## UPDATE statement"
   ]
  },
  {
   "cell_type": "code",
   "execution_count": null,
   "metadata": {},
   "outputs": [],
   "source": [
    "use employees;\n",
    "\n",
    "# first we look at the existing record \n",
    "SELECT \n",
    "    *\n",
    "FROM\n",
    "    employees\n",
    "WHERE\n",
    "    emp_no = 9999901;\n",
    "\n",
    "\n",
    "    \n",
    "# changing a record an existing record of emp_no\n",
    "    \n",
    "UPDATE employees \n",
    "SET \n",
    "    first_name = 'Stella',\n",
    "    last_name = 'Parkinson',\n",
    "    birth_date = '1990-12-31',\n",
    "    gender = 'F'\n",
    "WHERE\n",
    "    emp_no = 999901;\n",
    "    \n",
    "    \n",
    "# finally we observe the change \n",
    "SELECT \n",
    "    *\n",
    "FROM\n",
    "    employees\n",
    "WHERE\n",
    "    emp_no = 9999901;\n"
   ]
  },
  {
   "cell_type": "markdown",
   "metadata": {},
   "source": [
    "## commit and rollback"
   ]
  },
  {
   "cell_type": "code",
   "execution_count": null,
   "metadata": {},
   "outputs": [],
   "source": [
    "SELECT \n",
    "    *\n",
    "FROM\n",
    "    departments_dup\n",
    "ORDER BY dept_no;\n",
    "\n",
    "commit;\n",
    "\n",
    "update departments_dup\n",
    "set\n",
    "dept_no = 'd011'\n",
    "dept_name = 'Quality Control';\n",
    "\n",
    "rollback;   ## Just undoes the most recent change. that's it.\n",
    "\n",
    "\n",
    "commit;\n"
   ]
  },
  {
   "cell_type": "code",
   "execution_count": null,
   "metadata": {},
   "outputs": [],
   "source": [
    "# Change the “Business Analysis” department name to “Data Analysis”.\n",
    "\n",
    "## Hint: To solve this exercise, use the “departments” table.\n",
    "\n",
    "UPDATE departments \n",
    "SET \n",
    "    dept_name = 'Data Analysis'\n",
    "WHERE\n",
    "    dept_name = 'Business Analysis';\n",
    "    \n",
    "    # or\n",
    "    \n",
    "    dept_no = 'd010';"
   ]
  },
  {
   "cell_type": "markdown",
   "metadata": {},
   "source": [
    "## delete statement"
   ]
  },
  {
   "cell_type": "code",
   "execution_count": null,
   "metadata": {},
   "outputs": [],
   "source": [
    "use employees;\n",
    "\n",
    "commit; # before deleting we first commit\n",
    "\n",
    "SELECT \n",
    "    *\n",
    "FROM\n",
    "    employees\n",
    "WHERE\n",
    "    emp_no = 9999903;\n",
    "    \n",
    "\n",
    "DELETE FROM employees  ## it also deletes the record of same personnel 'cascade delete'd from our tables\n",
    "WHERE ## this is critical\n",
    "    emp_no = 9999903;"
   ]
  },
  {
   "cell_type": "code",
   "execution_count": null,
   "metadata": {},
   "outputs": [],
   "source": [
    "## Remove the department number 10 record from the “departments” table.\n",
    "\n",
    "DELETE FROM departments\n",
    "\n",
    "WHERE\n",
    "\n",
    "    dept_no = 'd010';"
   ]
  },
  {
   "cell_type": "markdown",
   "metadata": {},
   "source": [
    "### drop vs. truncate vs. delete"
   ]
  },
  {
   "cell_type": "code",
   "execution_count": null,
   "metadata": {},
   "outputs": [],
   "source": [
    "# once you drop a table, it's gone (to the last commit statement)\n",
    "# truncate is like delete without where clause\n",
    "# delete removes row by row \n"
   ]
  },
  {
   "cell_type": "markdown",
   "metadata": {},
   "source": [
    "## Aggregate Functions \n",
    "\n",
    "### count, sum, min, max, avg"
   ]
  },
  {
   "cell_type": "markdown",
   "metadata": {},
   "source": [
    "### count()"
   ]
  },
  {
   "cell_type": "code",
   "execution_count": null,
   "metadata": {},
   "outputs": [],
   "source": [
    "SELECT \n",
    "    *\n",
    "FROM\n",
    "    salaries\n",
    "ORDER BY salary DESC\n",
    "LIMIT 10;\n",
    "\n",
    "SELECT \n",
    "    COUNT(salary)\n",
    "FROM\n",
    "    salaries;\n",
    "\n",
    "SELECT \n",
    "    COUNT(DISTINCT salary)\n",
    "FROM\n",
    "    salaries;\n",
    "\n",
    "SELECT \n",
    "    COUNT(*) # this includes null values\n",
    "FROM\n",
    "    salaries; \n",
    "\n",
    "\n"
   ]
  },
  {
   "cell_type": "code",
   "execution_count": null,
   "metadata": {},
   "outputs": [],
   "source": [
    "# How many departments are there in the “employees” database? Use the ‘dept_emp’ table to answer the question.\n",
    "\n",
    "SELECT\n",
    "\n",
    "    COUNT(DISTINCT dept_no)\n",
    "\n",
    "FROM\n",
    "\n",
    "    dept_emp;"
   ]
  },
  {
   "cell_type": "markdown",
   "metadata": {},
   "source": [
    "### sum()"
   ]
  },
  {
   "cell_type": "code",
   "execution_count": null,
   "metadata": {},
   "outputs": [],
   "source": [
    "SELECT \n",
    "    SUM(salary)\n",
    "FROM\n",
    "    salaries;"
   ]
  },
  {
   "cell_type": "code",
   "execution_count": null,
   "metadata": {},
   "outputs": [],
   "source": [
    "# What is the total amount of money spent on salaries for all contracts starting after the 1st of January 1997?\n",
    "\n",
    "SELECT\n",
    "\n",
    "    SUM(salary)\n",
    "\n",
    "FROM\n",
    "\n",
    "    salaries\n",
    "\n",
    "WHERE\n",
    "\n",
    "    from_date > '1997-01-01';"
   ]
  },
  {
   "cell_type": "markdown",
   "metadata": {},
   "source": [
    "### min() and max()"
   ]
  },
  {
   "cell_type": "code",
   "execution_count": null,
   "metadata": {},
   "outputs": [],
   "source": [
    "# which is the highest salary we offer?\n",
    "\n",
    "SELECT \n",
    "    MAX(salary)\n",
    "FROM\n",
    "    salaries;\n",
    "\n",
    "SELECT \n",
    "    MIN(salary)\n",
    "FROM\n",
    "    salaries; \n"
   ]
  },
  {
   "cell_type": "code",
   "execution_count": null,
   "metadata": {},
   "outputs": [],
   "source": [
    "# 1. Which is the lowest employee number in the database?\n",
    "\n",
    "# 2. Which is the highest employee number in the database?"
   ]
  },
  {
   "cell_type": "code",
   "execution_count": null,
   "metadata": {},
   "outputs": [],
   "source": [
    "#1\n",
    "\n",
    "SELECT\n",
    "\n",
    "    MIN(emp_no)\n",
    "\n",
    "FROM\n",
    "\n",
    "    employees;\n",
    "\n",
    "#2\n",
    "\n",
    "SELECT\n",
    "\n",
    "    MAX(emp_no)\n",
    "\n",
    "FROM\n",
    "\n",
    "    employees;"
   ]
  },
  {
   "cell_type": "markdown",
   "metadata": {},
   "source": [
    "### avg()"
   ]
  },
  {
   "cell_type": "code",
   "execution_count": null,
   "metadata": {},
   "outputs": [],
   "source": [
    "SELECT \n",
    "    AVG(salary)\n",
    "FROM\n",
    "    salaries;"
   ]
  },
  {
   "cell_type": "code",
   "execution_count": null,
   "metadata": {},
   "outputs": [],
   "source": [
    "# What is the average annual salary paid to employees who started after the 1st of January 1997?\n",
    "\n",
    "SELECT\n",
    "\n",
    "    AVG(salary)\n",
    "\n",
    "FROM\n",
    "\n",
    "    salaries\n",
    "\n",
    "WHERE\n",
    "\n",
    "    from_date > '1997-01-01';"
   ]
  },
  {
   "cell_type": "markdown",
   "metadata": {},
   "source": [
    "### round()"
   ]
  },
  {
   "cell_type": "code",
   "execution_count": null,
   "metadata": {},
   "outputs": [],
   "source": [
    "SELECT \n",
    "    ROUND(AVG(salary),2) # decimal points \n",
    "FROM\n",
    "    salaries;"
   ]
  },
  {
   "cell_type": "code",
   "execution_count": null,
   "metadata": {},
   "outputs": [],
   "source": [
    "SELECT \n",
    "    ROUND(AVG(salary))\n",
    "FROM\n",
    "    salaries;"
   ]
  },
  {
   "cell_type": "code",
   "execution_count": null,
   "metadata": {},
   "outputs": [],
   "source": [
    "# Round the average amount of money spent on salaries for all contracts that started after the 1st of January 1997 to a precision of cents.\n",
    "\n",
    "SELECT\n",
    "\n",
    "    ROUND(AVG(salary), 2)\n",
    "\n",
    "FROM\n",
    "\n",
    "    salaries\n",
    "\n",
    "WHERE\n",
    "\n",
    "    from_date > '1997-01-01';"
   ]
  },
  {
   "cell_type": "markdown",
   "metadata": {},
   "source": [
    "### ifnull() and coalesce()\n",
    "\n",
    "use coalesce, but not ifnull "
   ]
  },
  {
   "cell_type": "code",
   "execution_count": null,
   "metadata": {},
   "outputs": [],
   "source": [
    "select \n",
    "    dept_no\n",
    "ifnull(dept_name, 'Department name not provided')\n",
    "from departments_dup; "
   ]
  },
  {
   "cell_type": "code",
   "execution_count": null,
   "metadata": {
    "ExecuteTime": {
     "end_time": "2020-07-21T17:55:17.661358Z",
     "start_time": "2020-07-21T17:55:17.635535Z"
    }
   },
   "outputs": [],
   "source": [
    "select \n",
    "    dept_no\n",
    "ifnull(dept_name, 'Department name not provided') as dept_name ## this also names the column\n",
    "from departments_dup; "
   ]
  },
  {
   "cell_type": "code",
   "execution_count": null,
   "metadata": {},
   "outputs": [],
   "source": [
    "select \n",
    "    dept_no\n",
    "coalesce(dept_name, 'Department name not provided') as dept_name ## coalesce is the same as ifnull even with single and multiple (more than two) parameters in the paranthesis \n",
    "from departments_dup; "
   ]
  },
  {
   "cell_type": "code",
   "execution_count": null,
   "metadata": {},
   "outputs": [],
   "source": [
    "## fill the null values in the dept_manager column with dept_name(the second parameter). and if dept_name is missing than put 'N/A' for the dept_manager column. \n",
    "\n",
    "select \n",
    "    dept_no\n",
    "    coalesce(dept_manager, dept_name, 'N/A') as dept_manager \n",
    "from \n",
    "    departments_dup\n",
    "\n",
    "order by dept_no ASC;"
   ]
  },
  {
   "cell_type": "code",
   "execution_count": null,
   "metadata": {},
   "outputs": [],
   "source": [
    "# Select the department number and name from the ‘departments_dup’ table and add a third column where you name the department number (‘dept_no’) as ‘dept_info’. If ‘dept_no’ does not have a value, use ‘dept_name’.\n",
    "\n",
    "SELECT\n",
    "\n",
    "    dept_no,\n",
    "\n",
    "    dept_name,\n",
    "\n",
    "    COALESCE(dept_no, dept_name) AS dept_info\n",
    "\n",
    "FROM\n",
    "\n",
    "    departments_dup\n",
    "\n",
    "ORDER BY dept_no ASC;\n"
   ]
  },
  {
   "cell_type": "code",
   "execution_count": null,
   "metadata": {},
   "outputs": [],
   "source": [
    "# Modify the code obtained from the previous exercise in the following way. Apply the IFNULL() function to the values from the first and second column, so that ‘N/A’ is displayed whenever a department number has no value, and ‘Department name not provided’ is shown if there is no value for ‘dept_name’.\n",
    "\n",
    "SELECT\n",
    "\n",
    "    IFNULL(dept_no, 'N/A') AS dept_info,\n",
    "    \n",
    "    IFNULL(dept_name, 'Department name not provided') AS dept_name,\n",
    "    \n",
    "    COALESCE(dept_no, dept_name) AS dept_info\n",
    "\n",
    "FROM\n",
    "\n",
    "    departments_dup\n",
    "\n",
    "ORDER BY dept_no ASC;"
   ]
  },
  {
   "cell_type": "code",
   "execution_count": null,
   "metadata": {},
   "outputs": [],
   "source": [
    "# If you currently have the ‘departments_dup’ table set up, use DROP COLUMN to remove the ‘dept_manager’ column from the ‘departments_dup’ table.\n",
    "# Then, use CHANGE COLUMN to change the ‘dept_no’ and ‘dept_name’ columns to NULL.\n",
    "# (If you don’t currently have the ‘departments_dup’ table set up, create it. Let it contain two columns: dept_no and dept_name. Let the data type of dept_no be CHAR of 4, and the data type of dept_name be VARCHAR of 40. Both columns are allowed to have null values. Finally, insert the information contained in ‘departments’ into ‘departments_dup’.)\n",
    "# Then, insert a record whose department name is “Public Relations”.\n",
    "# Delete the record(s) related to department number two.\n",
    "# Insert two new records in the “departments_dup” table. Let their values in the “dept_no” column be “d010” and “d011”.\n",
    "\n",
    "# if you currently have ‘departments_dup’ set up:\n",
    "\n",
    "ALTER TABLE departments_dup\n",
    "\n",
    "DROP COLUMN dept_manager;\n",
    "\n",
    " \n",
    "\n",
    "ALTER TABLE departments_dup\n",
    "\n",
    "CHANGE COLUMN dept_no dept_no CHAR(4) NULL;\n",
    "\n",
    " \n",
    "\n",
    "ALTER TABLE departments_dup\n",
    "\n",
    "CHANGE COLUMN dept_name dept_name VARCHAR(40) NULL;\n",
    "\n",
    " \n",
    "\n",
    "# if you don’t currently have ‘departments_dup’ set up\n",
    "\n",
    "DROP TABLE IF EXISTS departments_dup;\n",
    "\n",
    "CREATE TABLE departments_dup\n",
    "\n",
    "(\n",
    "\n",
    "    dept_no CHAR(4) NULL,\n",
    "\n",
    "    dept_name VARCHAR(40) NULL\n",
    "\n",
    ");\n",
    "\n",
    " \n",
    "\n",
    "INSERT INTO departments_dup\n",
    "\n",
    "(\n",
    "\n",
    "    dept_no,\n",
    "\n",
    "    dept_name\n",
    "\n",
    ")SELECT\n",
    "\n",
    "                *\n",
    "\n",
    "FROM\n",
    "\n",
    "                departments;\n",
    "\n",
    " \n",
    "\n",
    "INSERT INTO departments_dup (dept_name)\n",
    "\n",
    "VALUES                ('Public Relations');\n",
    "\n",
    " \n",
    "\n",
    "DELETE FROM departments_dup\n",
    "\n",
    "WHERE\n",
    "\n",
    "    dept_no = 'd002'; \n",
    "\n",
    "   \n",
    "\n",
    "INSERT INTO departments_dup(dept_no) VALUES ('d010'), ('d011');\n"
   ]
  },
  {
   "cell_type": "markdown",
   "metadata": {},
   "source": [
    "# JOINS \n",
    "\n",
    "allows us to construct a relationship between objects"
   ]
  },
  {
   "cell_type": "markdown",
   "metadata": {},
   "source": [
    "## inner join\n",
    "\n",
    "extracts only matching (common) values in corresponding tables"
   ]
  },
  {
   "cell_type": "code",
   "execution_count": null,
   "metadata": {},
   "outputs": [],
   "source": [
    "SELECT \n",
    "    m.dept_no, m.emp_no, d.dept_name ## these are the variables we're interested in for a new table (for example)\n",
    "FROM\n",
    "    dept_manager_dup m\n",
    "        INNER JOIN\n",
    "    departments_dup d ON m.dept_no = d.dept_no\n",
    "GROUP BY m.emp_no\n",
    "ORDER BY m.dept_no; "
   ]
  },
  {
   "cell_type": "code",
   "execution_count": null,
   "metadata": {},
   "outputs": [],
   "source": [
    "# Extract a list containing information about all managers’ employee number, first and last name, department number, and hire date. \n",
    "\n",
    "SELECT \n",
    "    e.emp_no, e.first_name, e.last_name, dm.dept_no, e.hire_date\n",
    "FROM\n",
    "    employees e\n",
    "        JOIN\n",
    "    dept_manager dm ON e.emp_no = dm.emp_no;\n"
   ]
  },
  {
   "cell_type": "code",
   "execution_count": 2,
   "metadata": {
    "ExecuteTime": {
     "end_time": "2020-07-21T20:23:11.515178Z",
     "start_time": "2020-07-21T20:23:11.465801Z"
    }
   },
   "outputs": [],
   "source": [
    "# if you have duplicates in the data, make sure to GROUP BY that table when joining. That is, write command GROUP BY <table_name> before ORDER BY block"
   ]
  },
  {
   "cell_type": "markdown",
   "metadata": {},
   "source": [
    "## left join\n",
    "\n",
    "left join == left outer join"
   ]
  },
  {
   "cell_type": "code",
   "execution_count": null,
   "metadata": {},
   "outputs": [],
   "source": [
    "## the alias for the first paramater in SELECT --d-- should match with the left table---d \n",
    "\n",
    "\n",
    "SELECT \n",
    "    m.dept_no, m.emp_no, d.dept_name \n",
    "FROM\n",
    "    dept_manager_dup m\n",
    "        LEFT JOIN\n",
    "    departments_dup d ON m.dept_no = d.dept_no\n",
    "ORDER BY dept_no; "
   ]
  },
  {
   "cell_type": "code",
   "execution_count": null,
   "metadata": {},
   "outputs": [],
   "source": [
    "# Join the 'employees' and the 'dept_manager' tables to return a subset of all the employees whose last name is Markovitch. See if the output contains a manager with that name.  \n",
    "\n",
    "## Hint: Create an output containing information corresponding to the following fields: ‘emp_no’, ‘first_name’, ‘last_name’, ‘dept_no’, ‘from_date’. Order by 'dept_no' descending, and then by 'emp_no'.\n",
    "\n",
    "SELECT \n",
    "    e.emp_no,\n",
    "    e.first_name,\n",
    "    e.last_name,\n",
    "    dm.dept_no,\n",
    "    dm.from_date\n",
    "FROM\n",
    "    employees e\n",
    "        LEFT JOIN\n",
    "    dept_manager dm ON e.emp_no = dm.emp_no\n",
    "WHERE\n",
    "    e.last_name = 'Markovitch'\n",
    "ORDER BY dm.dept_no DESC , e.emp_no;\n"
   ]
  },
  {
   "cell_type": "markdown",
   "metadata": {},
   "source": [
    "### right join"
   ]
  },
  {
   "cell_type": "code",
   "execution_count": null,
   "metadata": {},
   "outputs": [],
   "source": [
    "SELECT \n",
    "    m.dept_no, m.emp_no, d.dept_name \n",
    "FROM\n",
    "    dept_manager_dup m\n",
    "        RIGHT JOIN\n",
    "    departments_dup d ON m.dept_no = d.dept_no\n",
    "ORDER BY d.dept_no; "
   ]
  },
  {
   "cell_type": "markdown",
   "metadata": {},
   "source": [
    "### The new and the old join syntax - exercise\n"
   ]
  },
  {
   "cell_type": "code",
   "execution_count": null,
   "metadata": {},
   "outputs": [],
   "source": [
    "# Extract a list containing information about all managers’ employee number, first and last name, department number, and hire date. Use the old type of join syntax to obtain the result.\n",
    "\n",
    "SELECT \n",
    "    e.emp_no, e.first_name, e.last_name, dm.dept_no, e.hire_date\n",
    "FROM\n",
    "    employees e,\n",
    "    dept_manager dm\n",
    "WHERE\n",
    "    e.emp_no = dm.emp_no;\n",
    "\n",
    "\n",
    "\n",
    "## New Join Syntax:\n",
    "\n",
    "SELECT\n",
    "\n",
    "    e.emp_no, e.first_name, e.last_name, dm.dept_no, e.hire_date\n",
    "\n",
    "FROM\n",
    "\n",
    "    employees e\n",
    "\n",
    "        JOIN\n",
    "\n",
    "    dept_manager dm ON e.emp_no = dm.emp_no; "
   ]
  },
  {
   "cell_type": "markdown",
   "metadata": {},
   "source": [
    "### Join and where used together"
   ]
  },
  {
   "cell_type": "code",
   "execution_count": null,
   "metadata": {},
   "outputs": [],
   "source": [
    "SELECT \n",
    "    e.emp_no, e.first_name, e.last_name, s.salary\n",
    "FROM\n",
    "    employees e\n",
    "        JOIN\n",
    "    salaries s ON e.emp_no = s.emp_no\n",
    "WHERE\n",
    "    s.salary > 145000\n",
    ";"
   ]
  },
  {
   "cell_type": "code",
   "execution_count": null,
   "metadata": {},
   "outputs": [],
   "source": [
    "# Select the first and last name, the hire date, and the job title of all employees whose first name is “Margareta” and have the last name “Markovitch”.\n",
    "\n",
    "SELECT \n",
    "    e.first_name, e.last_name, e.hire_date, t.title\n",
    "FROM\n",
    "    employees e\n",
    "        JOIN\n",
    "    titles t ON e.emp_no = t.emp_no\n",
    "WHERE\n",
    "    first_name = 'Margareta'\n",
    "        AND last_name = 'Markovitch'\n",
    "ORDER BY e.emp_no\n",
    "; "
   ]
  },
  {
   "cell_type": "markdown",
   "metadata": {},
   "source": [
    "### cross join"
   ]
  },
  {
   "cell_type": "code",
   "execution_count": null,
   "metadata": {},
   "outputs": [],
   "source": [
    "# Use a CROSS JOIN to return a list with all possible combinations between managers from the dept_manager table and department number 9.\n",
    "\n",
    "SELECT \n",
    "    dm.*, d.*\n",
    "FROM\n",
    "    departments d\n",
    "        CROSS JOIN\n",
    "    dept_manager dm\n",
    "WHERE\n",
    "    d.dept_no = 'd009'\n",
    "ORDER BY d.dept_name;"
   ]
  },
  {
   "cell_type": "code",
   "execution_count": null,
   "metadata": {},
   "outputs": [],
   "source": [
    "# Return a list with the first 10 employees with all the departments they can be assigned to.\n",
    "\n",
    "## Hint: Don’t use LIMIT; use a WHERE clause.\n",
    "\n",
    "SELECT \n",
    "    e.*, d.*\n",
    "FROM\n",
    "    employees e\n",
    "        CROSS JOIN\n",
    "    departments d\n",
    "WHERE\n",
    "    e.emp_no < 10011\n",
    "ORDER BY e.emp_no , d.dept_name;"
   ]
  },
  {
   "cell_type": "markdown",
   "metadata": {},
   "source": [
    "### Using Aggregate functions with joins "
   ]
  },
  {
   "cell_type": "code",
   "execution_count": null,
   "metadata": {},
   "outputs": [],
   "source": [
    "# find the average salaries of men and women in the company \n",
    "\n",
    "SELECT \n",
    "    e.gender, AVG(s.salary) AS average_salary\n",
    "FROM\n",
    "    employees e\n",
    "        JOIN\n",
    "    salaries s ON e.emp_no = s.emp_no\n",
    "GROUP BY gender; "
   ]
  },
  {
   "cell_type": "markdown",
   "metadata": {},
   "source": [
    "#### joining more than two tables"
   ]
  },
  {
   "cell_type": "code",
   "execution_count": null,
   "metadata": {},
   "outputs": [],
   "source": [
    "SELECT \n",
    "    e.first_name,\n",
    "    e.last_name,\n",
    "    e.hire_date,\n",
    "    m.from_date,\n",
    "    d.dept_name\n",
    "FROM\n",
    "    employees e\n",
    "        JOIN\n",
    "    dept_manager m ON e.emp_no = m.emp_no\n",
    "        JOIN\n",
    "    departments d ON m.dept_no = d.dept_no\n",
    ";"
   ]
  },
  {
   "cell_type": "code",
   "execution_count": 3,
   "metadata": {
    "ExecuteTime": {
     "end_time": "2020-07-21T23:20:13.008372Z",
     "start_time": "2020-07-21T23:20:12.988026Z"
    }
   },
   "outputs": [],
   "source": [
    "# Select all managers’ first and last name, hire date, job title, start date, and department name.\n",
    "\n",
    "SELECT \n",
    "    e.first_name,\n",
    "    e.last_name,\n",
    "    e.hire_date,\n",
    "    t.title,\n",
    "    d.from_date,\n",
    "    dp.dept_name\n",
    "FROM\n",
    "    employees e\n",
    "        JOIN\n",
    "    titles t ON e.emp_no = t.emp_no\n",
    "        JOIN\n",
    "    dept_manager d ON e.emp_no = d.emp_no\n",
    "        JOIN\n",
    "    departments dp ON d.dept_no = dp.dept_no\n",
    "WHERE\n",
    "    t.title = 'Manager'\n",
    "ORDER BY e.emp_no;\n",
    ";\n"
   ]
  },
  {
   "cell_type": "code",
   "execution_count": null,
   "metadata": {},
   "outputs": [],
   "source": [
    "# complete the dept_name and average_salary table where there is not direct relational link between two tables\n",
    "\n",
    "SELECT \n",
    "    d.dept_name, AVG(salary) AS average_salary\n",
    "FROM\n",
    "    departments d\n",
    "        JOIN\n",
    "    dept_manager m ON d.dept_no = m.dept_no\n",
    "        JOIN\n",
    "    salaries s ON m.emp_no = s.emp_no\n",
    "GROUP BY dept_name   ### you have to add these to get distinct values by dept\n",
    "ORDER BY average_salary DESC\n",
    "; \n",
    "\n",
    "\n",
    "### inserting HAVING as a conditional statement\n",
    "\n",
    "SELECT \n",
    "    d.dept_name, AVG(salary) AS average_salary\n",
    "FROM\n",
    "    departments d\n",
    "        JOIN\n",
    "    dept_manager m ON d.dept_no = m.dept_no\n",
    "        JOIN\n",
    "    salaries s ON m.emp_no = s.emp_no\n",
    "GROUP BY dept_name\n",
    "HAVING average_salary > 60000\n",
    "ORDER BY average_salary DESC\n",
    "; \n"
   ]
  },
  {
   "cell_type": "code",
   "execution_count": null,
   "metadata": {},
   "outputs": [],
   "source": [
    "# How many male and how many female managers do we have in the ‘employees’ database?\n",
    "SELECT \n",
    "    e.gender, COUNT(dm.emp_no)\n",
    "FROM\n",
    "    employees e\n",
    "        JOIN\n",
    "    dept_manager dm ON e.emp_no = dm.emp_no\n",
    "GROUP BY gender;\n"
   ]
  },
  {
   "cell_type": "markdown",
   "metadata": {},
   "source": [
    "### union vs. union all"
   ]
  },
  {
   "cell_type": "code",
   "execution_count": null,
   "metadata": {},
   "outputs": [],
   "source": [
    "What do you think is the meaning of the minus sign before subset A in the last row (ORDER BY -a.emp_no DESC)? \n",
    "\n",
    "SELECT \n",
    "    *\n",
    "FROM\n",
    "    (SELECT \n",
    "        e.emp_no,\n",
    "            e.first_name,\n",
    "            e.last_name,\n",
    "            NULL AS dept_no,\n",
    "            NULL AS from_date\n",
    "    FROM\n",
    "        employees e\n",
    "    WHERE\n",
    "        last_name = 'Denis' UNION SELECT \n",
    "        NULL AS emp_no,\n",
    "            NULL AS first_name,\n",
    "            NULL AS last_name,\n",
    "            dm.dept_no,\n",
    "            dm.from_date\n",
    "    FROM\n",
    "        dept_manager dm) AS a\n",
    "ORDER BY - a.emp_no DESC;"
   ]
  },
  {
   "cell_type": "markdown",
   "metadata": {},
   "source": [
    "## subqueries"
   ]
  },
  {
   "cell_type": "code",
   "execution_count": null,
   "metadata": {
    "ExecuteTime": {
     "end_time": "2020-07-22T09:06:25.101783Z",
     "start_time": "2020-07-22T09:06:24.778807Z"
    }
   },
   "outputs": [],
   "source": [
    "# Extract information about all first and last names of department managers\n",
    "\n",
    "SELECT \n",
    "    e.first_name, e.last_name\n",
    "FROM\n",
    "    employees e\n",
    "WHERE\n",
    "    e.emp_no IN (SELECT \n",
    "            dm.emp_no\n",
    "        FROM\n",
    "            dept_manager dm);"
   ]
  },
  {
   "cell_type": "code",
   "execution_count": null,
   "metadata": {},
   "outputs": [],
   "source": [
    "# Extract the information about all department managers who were hired between the 1st of January 1990 and the 1st of January 1995.\n",
    "SELECT \n",
    "    *\n",
    "FROM\n",
    "    dept_manager\n",
    "WHERE\n",
    "    emp_no IN (SELECT \n",
    "            emp_no\n",
    "        FROM\n",
    "            employees\n",
    "        WHERE\n",
    "            hire_date BETWEEN '1990-01-01' AND '1995-01-01');\n"
   ]
  },
  {
   "cell_type": "markdown",
   "metadata": {},
   "source": [
    "### subqueries with EXISTS-NOT EXISTS\n",
    "\n",
    "***returns a boolean value***"
   ]
  },
  {
   "cell_type": "code",
   "execution_count": null,
   "metadata": {},
   "outputs": [],
   "source": [
    "SELECT \n",
    "    e.first_name, e.last_name\n",
    "FROM\n",
    "    employees e\n",
    "WHERE\n",
    "    EXISTS( SELECT \n",
    "            *\n",
    "        FROM\n",
    "            dept_manager dm\n",
    "        WHERE\n",
    "            dm.emp_no = e.emp_no);"
   ]
  },
  {
   "cell_type": "code",
   "execution_count": null,
   "metadata": {},
   "outputs": [],
   "source": [
    "SELECT \n",
    "    e.first_name, e.last_name\n",
    "FROM\n",
    "    employees e\n",
    "WHERE\n",
    "    EXISTS( SELECT \n",
    "            *\n",
    "        FROM\n",
    "            dept_manager dm\n",
    "        WHERE\n",
    "            dm.emp_no = e.emp_no)\n",
    "ORDER BY emp_no; # Use order by out of subquery "
   ]
  },
  {
   "cell_type": "code",
   "execution_count": null,
   "metadata": {},
   "outputs": [],
   "source": [
    "# Select the entire information for all employees whose job title is “Assistant Engineer”. \n",
    "\n",
    "# Hint: To solve this exercise, use the 'employees' table.\n",
    "\n",
    "SELECT \n",
    "    *\n",
    "FROM\n",
    "    employees e\n",
    "WHERE\n",
    "    EXISTS( SELECT \n",
    "            *\n",
    "        FROM\n",
    "            titles t\n",
    "        WHERE\n",
    "            t.emp_no = e.emp_no\n",
    "                AND title = 'Assistant Engineer');\n",
    "\n",
    "\n",
    "\n"
   ]
  },
  {
   "cell_type": "code",
   "execution_count": null,
   "metadata": {},
   "outputs": [],
   "source": [
    "# Assign employee number 110022 as a manager to all employees from 10001 to 10020, \n",
    "## and employee number 110039 as a manager to all employees from 10021 to 10040\n",
    "SELECT \n",
    "    A.*\n",
    "FROM\n",
    "    (SELECT \n",
    "        e.emp_no AS employee_ID,\n",
    "            MIN(de.dept_no) AS department_code,\n",
    "            (SELECT \n",
    "                    emp_no\n",
    "                FROM\n",
    "                    dept_manager\n",
    "                WHERE\n",
    "                    emp_no = 110022) AS manager_ID\n",
    "    FROM\n",
    "        employees e\n",
    "    JOIN dept_emp de ON e.emp_no = de.emp_no\n",
    "    WHERE\n",
    "        e.emp_no <= 10020\n",
    "    GROUP BY e.emp_no\n",
    "    ORDER BY e.emp_no) AS A \n",
    "UNION SELECT \n",
    "    B.*\n",
    "FROM\n",
    "    (SELECT \n",
    "        e.emp_no AS employee_ID,\n",
    "            MIN(de.dept_no) AS department_code,\n",
    "            (SELECT \n",
    "                    emp_no\n",
    "                FROM\n",
    "                    dept_manager\n",
    "                WHERE\n",
    "                    emp_no = 110039) AS manager_ID\n",
    "    FROM\n",
    "        employees e\n",
    "    JOIN dept_emp de ON e.emp_no = de.emp_no\n",
    "    WHERE\n",
    "        e.emp_no > 10020\n",
    "    GROUP BY e.emp_no\n",
    "    ORDER BY e.emp_no\n",
    "    LIMIT 20) AS B;\n",
    "    "
   ]
  },
  {
   "cell_type": "code",
   "execution_count": null,
   "metadata": {},
   "outputs": [],
   "source": [
    "# Intro to the question below---Starting your code with “DROP TABLE”, create a table called “emp_manager” (emp_no – integer of 11, not null; dept_no – CHAR of 4, null; manager_no – integer of 11, not null). \n",
    "\n",
    "DROP TABLE if exists emp_manager;\n",
    "\n",
    "CREATE TABLE emp_manager (\n",
    "    emp_no INT(11) NOT NULL,\n",
    "    dept_no CHAR(4) NULL,\n",
    "    manager_no INT(11) NOT NULL\n",
    ");\n"
   ]
  },
  {
   "cell_type": "code",
   "execution_count": null,
   "metadata": {},
   "outputs": [],
   "source": [
    "# This is the question, solution is below cell.\n",
    "\n",
    "Fill emp_manager with data about employees, the number of the department they are working in, and their managers.\n",
    "\n",
    "Your query skeleton must be:\n",
    "\n",
    "Insert INTO emp_manager SELECT\n",
    "\n",
    "U.*\n",
    "\n",
    "FROM\n",
    "\n",
    "                 (A)\n",
    "\n",
    "UNION (B) UNION (C) UNION (D) AS U;\n",
    "\n",
    "A and B should be the same subsets used in the last lecture (SQL Subqueries Nested in SELECT and FROM). In other words, assign employee number 110022 as a manager to all employees from 10001 to 10020 (this must be subset A), and employee number 110039 as a manager to all employees from 10021 to 10040 (this must be subset B).\n",
    "\n",
    "Use the structure of subset A to create subset C, where you must assign employee number 110039 as a manager to employee 110022.\n",
    "\n",
    "Following the same logic, create subset D. Here you must do the opposite - assign employee 110022 as a manager to employee 110039.\n",
    "\n",
    "Your output must contain 42 rows.\n",
    "\n",
    "Good luck!\n",
    "\n"
   ]
  },
  {
   "cell_type": "code",
   "execution_count": null,
   "metadata": {},
   "outputs": [],
   "source": [
    "SELECT \n",
    "    A.*\n",
    "FROM\n",
    "    (SELECT \n",
    "        e.emp_no AS employee_ID,\n",
    "            MIN(de.dept_no) AS department_code,\n",
    "            (SELECT \n",
    "                    emp_no\n",
    "                FROM\n",
    "                    dept_manager\n",
    "                WHERE\n",
    "                    emp_no = 110022) AS manager_ID\n",
    "    FROM\n",
    "        employees e\n",
    "    JOIN dept_emp de ON e.emp_no = de.emp_no\n",
    "    WHERE\n",
    "        e.emp_no <= 10020\n",
    "    GROUP BY e.emp_no\n",
    "    ORDER BY e.emp_no) AS A \n",
    "UNION SELECT \n",
    "    B.*\n",
    "FROM\n",
    "    (SELECT \n",
    "        e.emp_no AS employee_ID,\n",
    "            MIN(de.dept_no) AS department_code,\n",
    "            (SELECT \n",
    "                    emp_no\n",
    "                FROM\n",
    "                    dept_manager\n",
    "                WHERE\n",
    "                    emp_no = 110039) AS manager_ID\n",
    "    FROM\n",
    "        employees e\n",
    "    JOIN dept_emp de ON e.emp_no = de.emp_no\n",
    "    WHERE\n",
    "        e.emp_no > 10020\n",
    "    GROUP BY e.emp_no\n",
    "    ORDER BY e.emp_no\n",
    "    LIMIT 20) AS B \n",
    "UNION SELECT \n",
    "    C.*\n",
    "FROM\n",
    "    (SELECT \n",
    "        e.emp_no AS employee_ID,\n",
    "            MIN(de.dept_no) AS department_code,\n",
    "            (SELECT \n",
    "                    emp_no\n",
    "                FROM\n",
    "                    dept_manager\n",
    "                WHERE\n",
    "                    emp_no = 110039) AS manager_ID\n",
    "    FROM\n",
    "        employees e\n",
    "    JOIN dept_emp de ON e.emp_no = de.emp_no\n",
    "    WHERE\n",
    "        e.emp_no = 110022\n",
    "    GROUP BY e.emp_no\n",
    "    ORDER BY e.emp_no) AS C \n",
    "UNION SELECT \n",
    "    D.*\n",
    "FROM\n",
    "    (SELECT \n",
    "        e.emp_no AS employee_ID,\n",
    "            MIN(de.dept_no) AS department_code,\n",
    "            (SELECT \n",
    "                    emp_no\n",
    "                FROM\n",
    "                    dept_manager\n",
    "                WHERE\n",
    "                    emp_no = 110022) AS manager_ID\n",
    "    FROM\n",
    "        employees e\n",
    "    JOIN dept_emp de ON e.emp_no = de.emp_no\n",
    "    WHERE\n",
    "        e.emp_no = 110039\n",
    "    GROUP BY e.emp_no\n",
    "    ORDER BY e.emp_no) AS D;"
   ]
  },
  {
   "cell_type": "markdown",
   "metadata": {},
   "source": [
    "## Self join"
   ]
  },
  {
   "cell_type": "code",
   "execution_count": null,
   "metadata": {},
   "outputs": [],
   "source": [
    "SELECT DISTINCT\n",
    "    e1.*\n",
    "FROM\n",
    "    emp_manager e1\n",
    "        JOIN\n",
    "    emp_manager e2 ON e1.emp_no = e2.manager_no; "
   ]
  },
  {
   "cell_type": "markdown",
   "metadata": {},
   "source": [
    "## View"
   ]
  },
  {
   "cell_type": "code",
   "execution_count": null,
   "metadata": {},
   "outputs": [],
   "source": [
    "## Finding duplicates for emp_no \n",
    "\n",
    "SELECT \n",
    "    *\n",
    "FROM\n",
    "    dept_emp;\n",
    "    \n",
    "\n",
    "SELECT \n",
    "    emp_no, from_data, to_date, COUNT(emp_no) AS num\n",
    "FROM\n",
    "    dept_emp\n",
    "GROUP BY emp_no\n",
    "HAVING num > 1"
   ]
  },
  {
   "cell_type": "code",
   "execution_count": null,
   "metadata": {},
   "outputs": [],
   "source": [
    "CREATE OR REPLACE VIEW v_dept_emp_latest_date AS\n",
    "    SELECT \n",
    "        emp_no, MAX(from_date) AS from_date, MAX(to_date) AS to_date\n",
    "    FROM\n",
    "        dept_emp\n",
    "    GROUP BY emp_no; "
   ]
  },
  {
   "cell_type": "code",
   "execution_count": null,
   "metadata": {},
   "outputs": [],
   "source": [
    "# Create a view that will extract the average salary of all managers registered in the database. Round this value to the nearest cent.\n",
    "\n",
    "# If you have worked correctly, after executing the view from the “Schemas” section in Workbench, you should obtain the value of 66924.27."
   ]
  },
  {
   "cell_type": "code",
   "execution_count": null,
   "metadata": {},
   "outputs": [],
   "source": [
    "CREATE OR REPLACE VIEW v_manager_avg_salary AS\n",
    "    SELECT \n",
    "        ROUND(AVG(salary), 2)\n",
    "    FROM\n",
    "        salaries s\n",
    "            JOIN\n",
    "        dept_manager m ON s.emp_no = m.emp_no;\n"
   ]
  },
  {
   "cell_type": "markdown",
   "metadata": {},
   "source": [
    "## Stored Routines"
   ]
  },
  {
   "cell_type": "code",
   "execution_count": null,
   "metadata": {},
   "outputs": [],
   "source": [
    "USE employees;\n",
    "DROP PROCEDURE IF EXISTS select_employees;\n",
    "\n",
    "DELIMITER $$\n",
    "\n",
    "CREATE PROCEDURE select_employees()\n",
    "BEGIN\n",
    "\n",
    "\tSELECT * FROM employees\n",
    "\tLIMIT 1000; \n",
    "\n",
    "END$$\n",
    "\n",
    "DELIMITER ;\n"
   ]
  },
  {
   "cell_type": "code",
   "execution_count": null,
   "metadata": {},
   "outputs": [],
   "source": [
    "# invoking procedures\n",
    "\n",
    "CALL employees.select_employees();\n",
    "\n",
    "CALL select_employees();\n",
    "\n",
    "CALL select_employees;"
   ]
  },
  {
   "cell_type": "code",
   "execution_count": null,
   "metadata": {},
   "outputs": [],
   "source": [
    "# Create a procedure that will provide the average salary of all employees.\n",
    "\n",
    "## Then, call the procedure.\n",
    "USE employees;\n",
    "\n",
    "DROP PROCEDURE IF EXISTS average_salary;\n",
    "\n",
    "DELIMITER $$\n",
    "\n",
    "CREATE PROCEDURE average_salary()\n",
    "\n",
    "BEGIN\n",
    "\n",
    "        SELECT \n",
    "            AVG(salary)\n",
    "        FROM\n",
    "            salaries;\n",
    "\n",
    "END$$\n",
    "\n",
    "DELIMITER ; \n",
    "\n",
    "CALL average_salary;\n"
   ]
  },
  {
   "cell_type": "markdown",
   "metadata": {},
   "source": [
    "### procedure with parameters "
   ]
  },
  {
   "cell_type": "code",
   "execution_count": null,
   "metadata": {},
   "outputs": [],
   "source": [
    "USE `employees`;\n",
    "DROP procedure IF EXISTS emp_salary;\n",
    "\n",
    "DELIMITER $$\n",
    "CREATE PROCEDURE emp_salary (IN p_emp_no INTEGER)\n",
    "BEGIN\n",
    "SELECT \n",
    "    e.first_name, e.last_name, s.salary, s.from_date, s.to_date\n",
    "FROM\n",
    "    employees e\n",
    "        JOIN\n",
    "    salaries s ON e.emp_no = s.emp_no\n",
    "WHERE\n",
    "    e.emp_no = p_emp_no;  ###p_emp_no --- designated in the paranthesis as parameter\n",
    "END$$\n",
    "\n",
    "DELIMITER ;"
   ]
  },
  {
   "cell_type": "markdown",
   "metadata": {},
   "source": [
    "### stored procedure with an output parameter"
   ]
  },
  {
   "cell_type": "code",
   "execution_count": null,
   "metadata": {},
   "outputs": [],
   "source": [
    "USE `employees`;\n",
    "DROP procedure IF EXISTS emp_salary_out;\n",
    "\n",
    "DELIMITER $$\n",
    "CREATE PROCEDURE emp_salary(IN p_emp_no INTEGER, out p_avg_salary DECIMAL(10,2)) ## out is critical\n",
    "BEGIN\n",
    "SELECT \n",
    "    AVG(s.salary)\n",
    "INTO p_avg_salary FROM  ## into is critical\n",
    "    employees e\n",
    "        JOIN\n",
    "    salaries s ON e.emp_no = s.emp_no\n",
    "WHERE\n",
    "    e.emp_no = p_emp_no;  \n",
    "END$$\n",
    "\n",
    "DELIMITER ;"
   ]
  },
  {
   "cell_type": "code",
   "execution_count": null,
   "metadata": {},
   "outputs": [],
   "source": [
    "# Create a procedure called ‘emp_info’ that uses as parameters the first and the last name of an individual, and returns their employee number.\n",
    "\n",
    "DELIMITER $$\n",
    "\n",
    "CREATE PROCEDURE emp_info(in p_first_name varchar(255), in p_last_name varchar(255), out p_emp_no integer)\n",
    "\n",
    "BEGIN\n",
    "\n",
    "SELECT \n",
    "    e.emp_no\n",
    "INTO p_emp_no FROM\n",
    "    employees e\n",
    "WHERE\n",
    "    e.first_name = p_first_name\n",
    "        AND e.last_name = p_last_name;\n",
    "\n",
    "END$$\n",
    "\n",
    "DELIMITER ;\n"
   ]
  },
  {
   "cell_type": "markdown",
   "metadata": {},
   "source": [
    "## Variables"
   ]
  },
  {
   "cell_type": "code",
   "execution_count": null,
   "metadata": {},
   "outputs": [],
   "source": [
    "SET @v_avg_salary = 0;\n",
    "CALL employees.emp_avg_salary_out(11300, @v_avg_salary); ## @v_avg_salary tells the procedure where the output will be used/stored\n",
    "SELECT @v_avg_salary; "
   ]
  },
  {
   "cell_type": "code",
   "execution_count": null,
   "metadata": {},
   "outputs": [],
   "source": [
    "# Create a variable, called ‘v_emp_no’, where you will store the output of the procedure you created in the last exercise.\n",
    "\n",
    "# Call the same procedure, inserting the values ‘Aruna’ and ‘Journel’ as a first and last name respectively.\n",
    "\n",
    "# Finally, select the obtained output.\n",
    "\n",
    "SET @v_emp_no = 0;\n",
    "\n",
    "CALL emp_info('Aruna', 'Journel', @v_emp_no);\n",
    "\n",
    "SELECT @v_emp_no;\n"
   ]
  },
  {
   "cell_type": "markdown",
   "metadata": {},
   "source": [
    "## User defined functions"
   ]
  },
  {
   "cell_type": "code",
   "execution_count": null,
   "metadata": {},
   "outputs": [],
   "source": [
    "# Create a function called ‘emp_info’ that takes for parameters the first and last name of an employee, and returns the salary from the newest contract of that employee.\n",
    "\n",
    "# Hint: In the BEGIN-END block of this program, you need to declare and use two variables – v_max_from_date that will be of the DATE type, and v_salary, that will be of the DECIMAL (10,2) type.\n",
    "\n",
    "# Finally, select this function.\n",
    "\n",
    "DELIMITER $$\n",
    "\n",
    "\n",
    "\n",
    "CREATE FUNCTION emp_info(p_first_name varchar(255), p_last_name varchar(255)) RETURNS decimal(10,2)\n",
    "\n",
    "DETERMINISTIC NO SQL READS SQL DATA\n",
    "\n",
    "BEGIN\n",
    "\n",
    "    DECLARE v_max_from_date date;\n",
    "\n",
    "    DECLARE v_salary decimal(10,2);\n",
    "\n",
    "SELECT \n",
    "    MAX(from_date)\n",
    "INTO v_max_from_date FROM\n",
    "    employees e\n",
    "        JOIN\n",
    "    salaries s ON e.emp_no = s.emp_no\n",
    "WHERE\n",
    "    e.first_name = p_first_name\n",
    "        AND e.last_name = p_last_name;\n",
    "\n",
    "SELECT \n",
    "    s.salary\n",
    "INTO v_salary FROM\n",
    "    employees e\n",
    "        JOIN\n",
    "    salaries s ON e.emp_no = s.emp_no\n",
    "WHERE\n",
    "    e.first_name = p_first_name\n",
    "        AND e.last_name = p_last_name\n",
    "        AND s.from_date = v_max_from_date;\n",
    "\n",
    "RETURN v_salary;\n",
    "\n",
    "END$$\n",
    "\n",
    "DELIMITER ;\n",
    "\n",
    "SELECT EMP_INFO('Aruna', 'Journel');"
   ]
  },
  {
   "cell_type": "markdown",
   "metadata": {},
   "source": [
    "## triggers "
   ]
  },
  {
   "cell_type": "code",
   "execution_count": null,
   "metadata": {},
   "outputs": [],
   "source": [
    "# Create a trigger that checks if the hire date of an employee is higher than the current date. If true, set this date to be the current date. Format the output appropriately (YY-MM-DD).\n",
    "\n",
    "DELIMITER $$\n",
    "\n",
    "CREATE TRIGGER trig_hire_date  \n",
    "\n",
    "BEFORE INSERT ON employees\n",
    "\n",
    "FOR EACH ROW  \n",
    "\n",
    "BEGIN  \n",
    "\n",
    "                IF NEW.hire_date > date_format(sysdate(), '%Y-%m-%d') THEN     \n",
    "\n",
    "                                SET NEW.hire_date = date_format(sysdate(), '%Y-%m-%d');     \n",
    "\n",
    "                END IF;  \n",
    "\n",
    "END $$  \n",
    "\n",
    "DELIMITER ;  \n",
    "\n",
    "   \n",
    "\n",
    "INSERT employees VALUES ('999904', '1970-01-31', 'John', 'Johnson', 'M', '2025-01-01');  \n",
    "\n",
    "SELECT  \n",
    "\n",
    "    *  \n",
    "\n",
    "FROM  \n",
    "\n",
    "    employees\n",
    "\n",
    "ORDER BY emp_no DESC;\n"
   ]
  },
  {
   "cell_type": "markdown",
   "metadata": {
    "ExecuteTime": {
     "end_time": "2020-07-22T22:06:31.194448Z",
     "start_time": "2020-07-22T22:06:31.152829Z"
    }
   },
   "source": [
    "## indexes"
   ]
  },
  {
   "cell_type": "code",
   "execution_count": null,
   "metadata": {},
   "outputs": [],
   "source": [
    "SELECT \n",
    "    *\n",
    "FROM\n",
    "    employees\n",
    "WHERE\n",
    "    hire_date > '2000-01-01'; \n",
    "\n",
    "## after creating index, the search will be quicker and more efficient\n",
    "\n",
    "CREATE INDEX i_hire_date ON employees(hire_date); \n",
    "\n",
    "\n",
    "SELECT \n",
    "    *\n",
    "FROM\n",
    "    employees\n",
    "WHERE\n",
    "    hire_date > '2000-01-01';"
   ]
  },
  {
   "cell_type": "code",
   "execution_count": null,
   "metadata": {},
   "outputs": [],
   "source": [
    "# composite indexes\n",
    "\n",
    "SELECT \n",
    "    *\n",
    "FROM\n",
    "    employees\n",
    "WHERE\n",
    "    first_name > 'Georgi'\n",
    "        AND last_name = 'Facello'; \n",
    "\n",
    "        \n",
    "CREATE INDEX i_composite ON employees(first_name, last_name); \n",
    "\n",
    "\n",
    "SELECT \n",
    "    *\n",
    "FROM\n",
    "    employees\n",
    "WHERE\n",
    "    first_name > 'Georgi'\n",
    "        AND last_name = 'Facello'; \n"
   ]
  },
  {
   "cell_type": "code",
   "execution_count": null,
   "metadata": {},
   "outputs": [],
   "source": [
    "# checking for indexes of a table in a database\n",
    "\n",
    "SHOW INDEX FROM employees FROM employees; "
   ]
  },
  {
   "cell_type": "code",
   "execution_count": null,
   "metadata": {},
   "outputs": [],
   "source": [
    "# Drop the ‘i_hire_date’ index.\n",
    "\n",
    "ALTER TABLE employees\n",
    "\n",
    "DROP INDEX i_hire_date;\n",
    "\n",
    "# Select all records from the ‘salaries’ table of people whose salary is higher than $89,000 per annum.\n",
    "\n",
    "## Then, create an index on the ‘salary’ column of that table, and check if it has sped up the search of the same SELECT statement.\n",
    "\n",
    "SELECT \n",
    "    *\n",
    "FROM\n",
    "    salaries\n",
    "WHERE\n",
    "    salary > 89000;\n",
    "\n",
    "\n",
    "CREATE INDEX i_salary ON salaries(salary);\n",
    "\n",
    "SELECT \n",
    "    *\n",
    "FROM\n",
    "    salaries\n",
    "WHERE\n",
    "    salary > 89000;\n"
   ]
  },
  {
   "cell_type": "markdown",
   "metadata": {},
   "source": [
    "## CASE "
   ]
  },
  {
   "cell_type": "code",
   "execution_count": null,
   "metadata": {},
   "outputs": [],
   "source": [
    "# Similar to the exercises done in the lecture, obtain a result set containing the employee number, first name, and last name of all employees with a number higher than 109990. Create a fourth column in the query, indicating whether this employee is also a manager, according to the data provided in the dept_manager table, or a regular employee. \n",
    "\n",
    "SELECT \n",
    "    e.emp_no,\n",
    "    e.first_name,\n",
    "    e.last_name,\n",
    "    CASE\n",
    "        WHEN dm.emp_no IS NOT NULL THEN 'Manager'\n",
    "        ELSE 'Employee'\n",
    "    END AS is_manager\n",
    "FROM\n",
    "    employees e\n",
    "        LEFT JOIN\n",
    "    dept_manager dm ON dm.emp_no = e.emp_no\n",
    "WHERE\n",
    "    e.emp_no > 109990;"
   ]
  },
  {
   "cell_type": "code",
   "execution_count": null,
   "metadata": {},
   "outputs": [],
   "source": [
    "# Extract a dataset containing the following information about the managers: employee number, first name, and last name. Add two columns at the end – one showing the difference between the maximum and minimum salary of that employee, and another one saying whether this salary raise was higher than $30,000 or NOT.\n",
    "\n",
    "SELECT \n",
    "    dm.emp_no,\n",
    "    e.first_name,\n",
    "    e.last_name,\n",
    "    MAX(s.salary) - MIN(s.salary) AS salary_difference,\n",
    "    CASE\n",
    "        WHEN MAX(s.salary) - MIN(s.salary) > 30000 THEN 'Salary was raised by more then $30,000'\n",
    "        ELSE 'Salary was NOT raised by more then $30,000'\n",
    "    END AS salary_raise\n",
    "FROM\n",
    "    dept_manager dm\n",
    "        JOIN\n",
    "    employees e ON e.emp_no = dm.emp_no\n",
    "        JOIN\n",
    "    salaries s ON s.emp_no = dm.emp_no\n",
    "GROUP BY s.emp_no;  "
   ]
  },
  {
   "cell_type": "code",
   "execution_count": null,
   "metadata": {},
   "outputs": [],
   "source": [
    "# Extract the employee number, first name, and last name of the first 100 employees, and add a fourth column, called “current_employee” saying “Is still employed” if the employee is still working in the company, or “Not an employee anymore” if they aren’t.\n",
    "\n",
    "## Hint: You’ll need to use data from both the ‘employees’ and the ‘dept_emp’ table to solve this exercise. \n",
    "\n",
    "SELECT \n",
    "    e.emp_no,\n",
    "    e.first_name,\n",
    "    e.last_name,\n",
    "    CASE\n",
    "        WHEN MAX(de.to_date) > SYSDATE() THEN 'Is still employed'\n",
    "        ELSE 'Not an employee anymore'\n",
    "    END AS current_employee\n",
    "FROM\n",
    "    employees e\n",
    "        JOIN\n",
    "    dept_emp de ON de.emp_no = e.emp_no\n",
    "GROUP BY de.emp_no\n",
    "LIMIT 100;\n"
   ]
  },
  {
   "cell_type": "markdown",
   "metadata": {},
   "source": [
    "# UDEMY Practice SQL – 10 Final Query Questions"
   ]
  },
  {
   "cell_type": "code",
   "execution_count": null,
   "metadata": {},
   "outputs": [],
   "source": [
    "# Exercise 1: Find the average salary of the male and female employees in each department."
   ]
  },
  {
   "cell_type": "code",
   "execution_count": null,
   "metadata": {},
   "outputs": [],
   "source": [
    "SELECT\n",
    "    d.dept_name, e.gender, AVG(salary)\n",
    "FROM\n",
    "    salaries s\n",
    "        JOIN\n",
    "    employees e ON s.emp_no = e.emp_no\n",
    "        JOIN\n",
    "    dept_emp de ON e.emp_no = de.emp_no\n",
    "        JOIN\n",
    "    departments d ON d.dept_no = de.dept_no\n",
    "GROUP BY de.dept_no , e.gender\n",
    "ORDER BY de.dept_no;"
   ]
  },
  {
   "cell_type": "code",
   "execution_count": null,
   "metadata": {},
   "outputs": [],
   "source": [
    "# Exercise 2: Find the lowest department number encountered in the 'dept_emp' table. Then, find the highest department number."
   ]
  },
  {
   "cell_type": "code",
   "execution_count": null,
   "metadata": {},
   "outputs": [],
   "source": [
    "SELECT\n",
    "    MIN(dept_no)\n",
    "FROM\n",
    "    dept_emp;\n",
    "    \n",
    "\n",
    "SELECT\n",
    "    MAX(dept_no)\n",
    "FROM\n",
    "    dept_emp;"
   ]
  },
  {
   "cell_type": "code",
   "execution_count": null,
   "metadata": {},
   "outputs": [],
   "source": [
    "# Exercise 3: Obtain a table containing the following three fields for all individuals whose employee number is not greater than 10040:\n",
    "# - employee number\n",
    "# - the smallest department number among the departments where an employee has worked in (use a subquery to retrieve this value from the 'dept_emp' table)\n",
    "# - assign '110022' as 'manager' to all individuals whose employee number is less than or equal to 10020, and '110039' to those whose number is between 10021 and 10040 inclusive (use a CASE statement to create the third field).\n",
    "# If you've worked correctly, you should obtain an output containing 40 rows. \n",
    "# Here’s the top part of the output.\n",
    "\n",
    "emp_no dept_no manager\n",
    "10001   d005   110022"
   ]
  },
  {
   "cell_type": "code",
   "execution_count": null,
   "metadata": {},
   "outputs": [],
   "source": [
    "SELECT\n",
    "    e.emp_no,\n",
    "    (SELECT\n",
    "            MIN(de.dept_no)\n",
    "        FROM\n",
    "            dept_emp de\n",
    "        WHERE\n",
    "            e.emp_no = de.emp_no) dept_no,\n",
    "    CASE\n",
    "        WHEN emp_no <= 10020 THEN '110022'\n",
    "        ELSE '110039'\n",
    "    END AS manager\n",
    "FROM\n",
    "    employees e\n",
    "WHERE\n",
    "    emp_no <= 10040; "
   ]
  },
  {
   "cell_type": "code",
   "execution_count": null,
   "metadata": {},
   "outputs": [],
   "source": [
    "SELECT \n",
    "    A.*\n",
    "FROM\n",
    "    (SELECT \n",
    "        e.emp_no AS employee_ID,\n",
    "            MIN(de.dept_no) AS department_code,\n",
    "            (SELECT \n",
    "                    emp_no\n",
    "                FROM\n",
    "                    dept_manager\n",
    "                WHERE\n",
    "                    emp_no = 110022) AS manager_ID\n",
    "    FROM\n",
    "        employees e\n",
    "    JOIN dept_emp de ON e.emp_no = de.emp_no\n",
    "    WHERE\n",
    "        e.emp_no <= 10020\n",
    "    GROUP BY e.emp_no\n",
    "    ORDER BY e.emp_no) AS A \n",
    "UNION SELECT \n",
    "    B.*\n",
    "FROM\n",
    "    (SELECT \n",
    "        e.emp_no AS employee_ID,\n",
    "            MIN(de.dept_no) AS department_code,\n",
    "            (SELECT \n",
    "                    emp_no\n",
    "                FROM\n",
    "                    dept_manager\n",
    "                WHERE\n",
    "                    emp_no = 110039) AS manager_ID\n",
    "    FROM\n",
    "        employees e\n",
    "    JOIN dept_emp de ON e.emp_no = de.emp_no\n",
    "    WHERE\n",
    "        e.emp_no > 10020\n",
    "    GROUP BY e.emp_no\n",
    "    ORDER BY e.emp_no\n",
    "    LIMIT 20) AS B;\n",
    "    "
   ]
  },
  {
   "cell_type": "code",
   "execution_count": null,
   "metadata": {},
   "outputs": [],
   "source": [
    "SELECT \n",
    "    e.emp_no,\n",
    "    e.first_name,\n",
    "    e.last_name,\n",
    "    CASE\n",
    "        WHEN dm.emp_no IS NOT NULL THEN 'Manager'\n",
    "        ELSE 'Employee'\n",
    "    END AS is_manager\n",
    "FROM\n",
    "    employees e\n",
    "        LEFT JOIN\n",
    "    dept_manager dm ON dm.emp_no = e.emp_no\n",
    "WHERE\n",
    "    e.emp_no > 109990;"
   ]
  },
  {
   "cell_type": "code",
   "execution_count": null,
   "metadata": {},
   "outputs": [],
   "source": [
    "# second solution\n",
    "\n",
    "SELECT \n",
    "    emp_no,\n",
    "    dept_no,\n",
    "    CASE\n",
    "        WHEN emp_no <= 10020 THEN '110022'\n",
    "        ELSE '110039'\n",
    "    END AS manager\n",
    "FROM\n",
    "    dept_emp\n",
    "WHERE\n",
    "    emp_no <= 10040\n",
    "    \n",
    "GROUP BY emp_no\n",
    "ORDER BY emp_no; "
   ]
  },
  {
   "cell_type": "code",
   "execution_count": null,
   "metadata": {},
   "outputs": [],
   "source": [
    "# Exercise 4: Retrieve a list with all employees that have been hired in the year 2000."
   ]
  },
  {
   "cell_type": "code",
   "execution_count": null,
   "metadata": {},
   "outputs": [],
   "source": [
    "SELECT\n",
    "    *\n",
    "FROM\n",
    "    employees\n",
    "WHERE\n",
    "    YEAR(hire_date) = 2000;"
   ]
  },
  {
   "cell_type": "code",
   "execution_count": null,
   "metadata": {},
   "outputs": [],
   "source": [
    "# Exercise 5: Retrieve a list with all employees from the ‘titles’ table who are engineers. \n",
    "# Repeat the exercise, this time retrieving a list with all employees from the ‘titles’ table who are senior engineers.\n"
   ]
  },
  {
   "cell_type": "code",
   "execution_count": null,
   "metadata": {},
   "outputs": [],
   "source": [
    "SELECT\n",
    "    *\n",
    "FROM\n",
    "    titles\n",
    "WHERE\n",
    "    title LIKE ('%engineer%');\n",
    "    \n",
    "    \n",
    "SELECT\n",
    "    *\n",
    "FROM\n",
    "    titles\n",
    "WHERE\n",
    "    title LIKE ('%senior engineer%');    "
   ]
  },
  {
   "cell_type": "code",
   "execution_count": null,
   "metadata": {},
   "outputs": [],
   "source": [
    "# Exercise 6\n",
    "# Create a procedure that asks you to insert an employee number to obtain an output containing the same number, as well as the number and name of the last department the employee has worked for.\n",
    "# Finally, call the procedure for employee number 10010.\n",
    "# If you've worked correctly, you should see that employee number 10010 has worked for department number 6 - \"Quality Management\".\n"
   ]
  },
  {
   "cell_type": "code",
   "execution_count": null,
   "metadata": {},
   "outputs": [],
   "source": [
    "DROP procedure IF EXISTS last_dept;\n",
    "\n",
    "DELIMITER $$\n",
    "CREATE PROCEDURE last_dept (in p_emp_no integer)\n",
    "BEGIN\n",
    "SELECT\n",
    "    e.emp_no, d.dept_no, d.dept_name\n",
    "FROM\n",
    "    employees e\n",
    "        JOIN\n",
    "    dept_emp de ON e.emp_no = de.emp_no\n",
    "        JOIN\n",
    "    departments d ON de.dept_no = d.dept_no\n",
    "WHERE\n",
    "    e.emp_no = p_emp_no\n",
    "        AND de.from_date = (SELECT\n",
    "            MAX(from_date)\n",
    "        FROM\n",
    "            dept_emp\n",
    "        WHERE\n",
    "            emp_no = p_emp_no);\n",
    "END$$\n",
    "DELIMITER ;\n",
    "\n",
    "call employees.last_dept(10010);"
   ]
  },
  {
   "cell_type": "code",
   "execution_count": null,
   "metadata": {},
   "outputs": [],
   "source": [
    "# Exercise 7\n",
    "# How many contracts have been registered in the ‘salaries’ table with duration of more than one year and of value higher than or equal to $100,000? \n",
    "# Hint: You may wish to compare the difference between the start and end date of the salaries contracts."
   ]
  },
  {
   "cell_type": "code",
   "execution_count": null,
   "metadata": {},
   "outputs": [],
   "source": [
    "SELECT \n",
    "    COUNT(*)\n",
    "FROM\n",
    "    salaries\n",
    "WHERE\n",
    "    salary >= 100000\n",
    "        AND DATEDIFF(to_date, from_date) > 365;\n",
    "    "
   ]
  },
  {
   "cell_type": "code",
   "execution_count": null,
   "metadata": {},
   "outputs": [],
   "source": [
    "# Exercise 8\n",
    "# Create a trigger that checks if the hire date of an employee is higher than the current date. If true, set this date to be the current date. Format the output appropriately (YY-MM-DD).\n",
    "# Extra challenge: You may try to declare a new variable called 'today' which stores today's data, and then use it in your trigger!\n",
    "# After creating the trigger, execute the following code to see if it's working properly."
   ]
  },
  {
   "cell_type": "code",
   "execution_count": null,
   "metadata": {},
   "outputs": [],
   "source": [
    "DROP TRIGGER IF EXISTS trig_hire_date;\n",
    "\n",
    "DELIMITER $$\n",
    "CREATE TRIGGER trig_hire_date\n",
    "BEFORE INSERT ON employees\n",
    " \n",
    "FOR EACH ROW\n",
    "BEGIN \n",
    "    DECLARE today date;\n",
    "    SELECT date_format(sysdate(), '%Y-%m-%d') INTO today;\n",
    " \n",
    "\tIF NEW.hire_date > today THEN\n",
    "\t\tSET NEW.hire_date = today;\n",
    "\tEND IF;\n",
    "END $$\n",
    " \n",
    "DELIMITER ;"
   ]
  },
  {
   "cell_type": "code",
   "execution_count": null,
   "metadata": {},
   "outputs": [],
   "source": [
    "# second solution\n",
    "\n",
    "SET @v_today = date_format(sysdate(), '%Y-%m-%d');\n",
    "\n",
    "\n",
    "DROP TRIGGER IF EXISTS hire_date;\n",
    "\n",
    "\n",
    "DELIMITER $$ \n",
    "CREATE TRIGGER hire_date\n",
    "BEFORE INSERT ON employees\n",
    "FOR EACH ROW\n",
    "\n",
    "BEGIN\n",
    "\n",
    "\tIF NEW.hire_date > @v_today THEN     \n",
    "\n",
    "\t\tSET NEW.hire_date = @v_today;     \n",
    "\n",
    "\tEND IF;  \n",
    "\n",
    "END $$  \n",
    "\n",
    "DELIMITER ;  \n",
    "\n",
    "\n",
    "\n",
    "INSERT employees VALUES ('999904', '1970-01-31', 'John', 'Johnson', 'M', '2025-01-01');  \n",
    "\n",
    "SELECT \n",
    "    *\n",
    "FROM\n",
    "    employees\n",
    "ORDER BY emp_no DESC;\n",
    "\n"
   ]
  },
  {
   "cell_type": "code",
   "execution_count": null,
   "metadata": {},
   "outputs": [],
   "source": [
    "# Exercise 9\n",
    "# Define a function that retrieves the largest contract salary value of an employee. Apply it to employee number 11356. \n",
    "# Also, what is the lowest salary value per contract of the same employee? You may want to create a new function that will deliver this number to you.  Apply it to employee number 11356 again.\n",
    "# Feel free to apply the function to other employee numbers as well."
   ]
  },
  {
   "cell_type": "code",
   "execution_count": null,
   "metadata": {},
   "outputs": [],
   "source": [
    "DROP FUNCTION IF EXISTS f_highest_salary;\n",
    "\n",
    "DELIMITER $$\n",
    "CREATE FUNCTION f_highest_salary (p_emp_no INTEGER) RETURNS DECIMAL(10,2)\n",
    "DETERMINISTIC\n",
    "BEGIN\n",
    "\n",
    "DECLARE v_highest_salary DECIMAL(10,2);\n",
    "\n",
    "SELECT\n",
    "    MAX(s.salary)\n",
    "INTO v_highest_salary FROM\n",
    "    employees e\n",
    "        JOIN\n",
    "    salaries s ON e.emp_no = s.emp_no\n",
    "WHERE\n",
    "    e.emp_no = p_emp_no;\n",
    "\n",
    "RETURN v_highest_salary;\n",
    "END$$\n",
    "\n",
    "DELIMITER ;\n",
    "\n",
    "\n",
    "SELECT f_highest_salary(11356);\n",
    "\n",
    "\n",
    "\n",
    "\n",
    "DROP FUNCTION IF EXISTS f_lowest_salary;\n",
    "\n",
    "DELIMITER $$\n",
    "CREATE FUNCTION f_lowest_salary (p_emp_no INTEGER) RETURNS DECIMAL(10,2)\n",
    "DETERMINISTIC\n",
    "BEGIN\n",
    "\n",
    "DECLARE v_lowest_salary DECIMAL(10,2);\n",
    "\n",
    "SELECT\n",
    "    MIN(s.salary)\n",
    "INTO v_lowest_salary FROM\n",
    "    employees e\n",
    "        JOIN\n",
    "    salaries s ON e.emp_no = s.emp_no\n",
    "WHERE\n",
    "    e.emp_no = p_emp_no;\n",
    "\n",
    "RETURN v_lowest_salary;\n",
    "END$$\n",
    "\n",
    "DELIMITER ;\n",
    "\n",
    "\n",
    "SELECT f_lowest_salary(10356);"
   ]
  },
  {
   "cell_type": "code",
   "execution_count": null,
   "metadata": {},
   "outputs": [],
   "source": [
    "# Second Solution \n",
    "DROP FUNCTION IF EXISTS largest_salary; \n",
    "\n",
    "DELIMITER $$\n",
    "\n",
    "CREATE FUNCTION largest_salary(p_emp_no INT) RETURNS decimal(10,2)\n",
    "\n",
    "DETERMINISTIC NO SQL READS SQL DATA\n",
    "\n",
    "BEGIN\n",
    "\n",
    "    DECLARE v_max_salary decimal(10,2);\n",
    "\n",
    "SELECT \n",
    "    MAX(salary)\n",
    "INTO v_max_salary FROM\n",
    "    salaries s\n",
    "WHERE\n",
    "    s.emp_no = p_emp_no;\n",
    "\n",
    "RETURN v_max_salary;\n",
    "\n",
    "END$$\n",
    "\n",
    "DELIMITER ;\n",
    "\n",
    "SELECT LARGEST_SALARY(11356);\n"
   ]
  },
  {
   "cell_type": "code",
   "execution_count": null,
   "metadata": {},
   "outputs": [],
   "source": [
    "# Exercise 10\n",
    "# Based on the previous example, you can now try to create a function that accepts also a second parameter which would be a character sequence. \n",
    "# Evaluate if its value is 'min' or 'max' and based on that retrieve either the lowest or the highest salary (using the same logic and code \n",
    "# from Exercise 9). If this value is a string value different from ‘min’ or ‘max’, then the output of the function should return \n",
    "# the difference between the highest and the lowest salary."
   ]
  },
  {
   "cell_type": "code",
   "execution_count": null,
   "metadata": {},
   "outputs": [],
   "source": [
    "DROP FUNCTION IF EXISTS f_salary;\n",
    "\n",
    "DELIMITER $$\n",
    "CREATE FUNCTION f_salary (p_emp_no INTEGER, p_min_or_max varchar(10)) RETURNS DECIMAL(10,2)\n",
    "DETERMINISTIC\n",
    "BEGIN\n",
    "\n",
    "DECLARE v_salary_info DECIMAL(10,2);\n",
    "\n",
    "SELECT\n",
    "    CASE\n",
    "        WHEN p_min_or_max = 'max' THEN MAX(s.salary)\n",
    "        WHEN p_min_or_max = 'min' THEN MIN(s.salary)\n",
    "        ELSE MAX(s.salary) - MIN(s.salary)\n",
    "    END AS salary_info\n",
    "INTO v_salary_info FROM\n",
    "    employees e\n",
    "        JOIN\n",
    "    salaries s ON e.emp_no = s.emp_no\n",
    "WHERE\n",
    "    e.emp_no = p_emp_no;\n",
    "\n",
    "RETURN v_salary_info;\n",
    "END$$\n",
    "\n",
    "DELIMITER ;\n",
    "\n",
    "select employees.f_salary(11356, 'min');\n",
    "select employees.f_salary(11356, 'max');\n",
    "select employees.f_salary(11356, 'maxxx');\n"
   ]
  },
  {
   "cell_type": "markdown",
   "metadata": {},
   "source": [
    "# SPRINGBOARD PRACTICE QUESTIONS"
   ]
  },
  {
   "cell_type": "code",
   "execution_count": null,
   "metadata": {},
   "outputs": [],
   "source": [
    "/* Welcome to the SQL mini project. For this project, you will use\n",
    "Springboard' online SQL platform, which you can log into through the\n",
    "following link:\n",
    "\n",
    "https://sql.springboard.com/\n",
    "Username: student\n",
    "Password: learn_sql@springboard\n",
    "\n",
    "The data you need is in the \"country_club\" database. This database\n",
    "contains 3 tables:\n",
    "    i) the \"Bookings\" table,\n",
    "    ii) the \"Facilities\" table, and\n",
    "    iii) the \"Members\" table.\n",
    "\n",
    "Note that, if you need to, you can also download these tables locally.\n",
    "\n",
    "In the mini project, you'll be asked a series of questions. You can\n",
    "solve them using the platform, but for the final deliverable,\n",
    "paste the code for each solution into this script, and upload it\n",
    "to your GitHub.\n",
    "\n",
    "Before starting with the questions, feel free to take your time,\n",
    "exploring the data, and getting acquainted with the 3 tables. */\n",
    "\n",
    "\n",
    "\n",
    "/* Q1: Some of the facilities charge a fee to members, but some do not.\n",
    "Please list the names of the facilities that do. */\n",
    "\n",
    "\n",
    "SELECT \n",
    "    name\n",
    "FROM\n",
    "    facilities\n",
    "WHERE\n",
    "    membercost = 0;\n"
   ]
  },
  {
   "cell_type": "code",
   "execution_count": null,
   "metadata": {},
   "outputs": [],
   "source": [
    "/* Q2: How many facilities do not charge a fee to members? */\n",
    "\n",
    "SELECT \n",
    "    COUNT(name)\n",
    "FROM\n",
    "    facilities\n",
    "WHERE\n",
    "    membercost = 0;\n"
   ]
  },
  {
   "cell_type": "code",
   "execution_count": null,
   "metadata": {},
   "outputs": [],
   "source": [
    "/* Q3: How can you produce a list of facilities that charge a fee to members,\n",
    "where the fee is less than 20% of the facility's monthly maintenance cost?\n",
    "Return the facid, facility name, member cost, and monthly maintenance of the\n",
    "facilities in question. */\n",
    "\n",
    "SELECT \n",
    "    facid, name AS facility_name, membercost, monthlymaintenance\n",
    "FROM\n",
    "    facilities\n",
    "WHERE\n",
    "    membercost < monthlymaintenance * .2\n",
    "        AND membercost != 0;"
   ]
  },
  {
   "cell_type": "code",
   "execution_count": null,
   "metadata": {},
   "outputs": [],
   "source": [
    "/* Q4: How can you retrieve the details of facilities with ID 1 and 5?\n",
    "Write the query without using the OR operator. */\n",
    "\n",
    "SELECT \n",
    "    *\n",
    "FROM\n",
    "    facilities\n",
    "WHERE\n",
    "    facid IN (1 , 5);\n"
   ]
  },
  {
   "cell_type": "code",
   "execution_count": null,
   "metadata": {},
   "outputs": [],
   "source": [
    "/* Q5: How can you produce a list of facilities, with each labelled as\n",
    "'cheap' or 'expensive', depending on if their monthly maintenance cost is\n",
    "more than $100? Return the name and monthly maintenance of the facilities\n",
    "in question. */\n",
    "\n",
    "SELECT \n",
    "    name,\n",
    "    monthlymaintenance,\n",
    "    CASE\n",
    "        WHEN monthlymaintenance > 100 THEN 'expensive'\n",
    "        ELSE 'cheap'\n",
    "    END AS price\n",
    "FROM\n",
    "    facilities; "
   ]
  },
  {
   "cell_type": "code",
   "execution_count": null,
   "metadata": {},
   "outputs": [],
   "source": [
    "/* Q6: You'd like to get the first and last name of the last member(s)\n",
    "who signed up. Do not use the LIMIT clause for your solution. */\n",
    "\n",
    "SELECT \n",
    "    firstname, surname\n",
    "FROM\n",
    "    members\n",
    "WHERE\n",
    "    joindate = (SELECT \n",
    "            MAX(joindate)\n",
    "        FROM\n",
    "            members)\n",
    "; "
   ]
  },
  {
   "cell_type": "code",
   "execution_count": null,
   "metadata": {},
   "outputs": [],
   "source": [
    "/* Q7: How can you produce a list of all members who have used a tennis court?\n",
    "Include in your output the name of the court, and the name of the member\n",
    "formatted as a single column. Ensure no duplicate data, and order by\n",
    "the member name. */\n",
    "\n",
    "SELECT \n",
    "    CONCAT(m.firstname, ' ', m.surname) AS member_ID, f.name AS facility_name\n",
    "FROM\n",
    "    members m\n",
    "        JOIN\n",
    "    bookings b ON m.memid = b.memid\n",
    "        JOIN\n",
    "    facilities f ON b.facid = f.facid\n",
    "WHERE\n",
    "    f.name LIKE '%Tennis Court%'\n",
    "    \n",
    "GROUP BY member_ID\n",
    "ORDER BY member_ID; \n",
    "\n",
    "\n",
    "# Alternatively, especially for duplicate values using SELECT DISTINCT \n",
    "\n",
    "SELECT DISTINCT\n",
    "    (CONCAT(m.firstname, ' ', m.surname)) AS member, f.name\n",
    "FROM\n",
    "    facilities f\n",
    "        JOIN\n",
    "    Bookings b ON f.facid = b.facid\n",
    "        JOIN\n",
    "    Members m ON m.memid = b.memid AND m.memid != 0\n",
    "WHERE\n",
    "    f.name LIKE '%Tennis Court%'\n",
    "ORDER BY member;"
   ]
  },
  {
   "cell_type": "code",
   "execution_count": null,
   "metadata": {},
   "outputs": [],
   "source": [
    "/* Q8: How can you produce a list of bookings on the day of 2012-09-14 which\n",
    "will cost the member (or guest) more than $30? Remember that guests have\n",
    "different costs to members (the listed costs are per half-hour 'slot'), and\n",
    "the guest user's ID is always 0. Include in your output the name of the\n",
    "facility, the name of the member formatted as a single column, and the cost.\n",
    "Order by descending cost, and do not use any subqueries. */\n",
    "\n",
    "SELECT \n",
    "    f.name AS facility_name,\n",
    "    CONCAT(m.firstname, ' ', m.surname) AS member_ID,\n",
    "    CASE\n",
    "        WHEN m.memid != 0 THEN b.slots * f.membercost\n",
    "        WHEN m.memid = 0 THEN b.slots * f.guestcost\n",
    "    END AS cost\n",
    "FROM\n",
    "    members m\n",
    "        JOIN\n",
    "    bookings b ON m.memid = b.memid\n",
    "        JOIN\n",
    "    facilities AS f ON b.facid = f.facid\n",
    "WHERE\n",
    "    b.starttime >= '2012-09-14'\n",
    "        AND b.starttime < '2012-09-15'\n",
    "        AND ((m.memid != 0\n",
    "        AND b.slots * f.membercost > 30)\n",
    "        OR (m.memid = 0\n",
    "        AND b.slots * f.guestcost > 30))\n",
    "ORDER BY cost DESC;"
   ]
  },
  {
   "cell_type": "code",
   "execution_count": null,
   "metadata": {},
   "outputs": [],
   "source": [
    "\n",
    "/* Q9: This time, produce the same result as in Q8, but using a subquery. */\n",
    "\n",
    "SELECT \n",
    "    sub.name AS facility_name,\n",
    "    sub.member AS member_ID,\n",
    "    sub.cost AS cost\n",
    "FROM\n",
    "    (SELECT \n",
    "        CONCAT(m.firstname, ' ', m.surname) AS member,\n",
    "            f.name,\n",
    "            CASE\n",
    "                WHEN m.memid != 0 THEN b.slots * f.membercost\n",
    "                WHEN m.memid = 0 THEN b.slots * f.guestcost\n",
    "            END AS cost\n",
    "    FROM\n",
    "        members m\n",
    "    JOIN bookings b ON m.memid = b.memid\n",
    "    JOIN facilities f ON b.facid = f.facid\n",
    "    WHERE\n",
    "        b.starttime >= '2012-09-14'\n",
    "            AND b.starttime < '2012-09-15'\n",
    "    HAVING cost > 30) AS sub\n",
    "ORDER BY cost DESC;"
   ]
  },
  {
   "cell_type": "code",
   "execution_count": null,
   "metadata": {},
   "outputs": [],
   "source": [
    "/* Q10: Produce a list of facilities with a total revenue less than 1000.\n",
    "The output of facility name and total revenue, sorted by revenue. Remember\n",
    "that there's a different cost for guests and members! */\n",
    "\n",
    "SELECT \n",
    "    facility_name, revenue AS total_revenue\n",
    "FROM\n",
    "    (SELECT \n",
    "        SUM(CASE\n",
    "                WHEN b.memid != 0 THEN b.slots * f.membercost\n",
    "                WHEN b.memid = 0 THEN b.slots * f.guestcost\n",
    "            END) AS revenue,\n",
    "            f.name AS facility_name\n",
    "    FROM\n",
    "        bookings b\n",
    "    JOIN facilities f ON b.facid = f.facid\n",
    "    GROUP BY f.name\n",
    "    HAVING revenue < 1000) AS sub\n",
    "ORDER BY revenue;"
   ]
  }
 ],
 "metadata": {
  "kernelspec": {
   "display_name": "Python 3",
   "language": "python",
   "name": "python3"
  },
  "language_info": {
   "codemirror_mode": {
    "name": "ipython",
    "version": 3
   },
   "file_extension": ".py",
   "mimetype": "text/x-python",
   "name": "python",
   "nbconvert_exporter": "python",
   "pygments_lexer": "ipython3",
   "version": "3.7.6"
  },
  "toc": {
   "base_numbering": 1,
   "nav_menu": {},
   "number_sections": false,
   "sideBar": true,
   "skip_h1_title": false,
   "title_cell": "Table of Contents",
   "title_sidebar": "Contents",
   "toc_cell": false,
   "toc_position": {
    "height": "calc(100% - 180px)",
    "left": "10px",
    "top": "150px",
    "width": "384px"
   },
   "toc_section_display": true,
   "toc_window_display": true
  }
 },
 "nbformat": 4,
 "nbformat_minor": 4
}
